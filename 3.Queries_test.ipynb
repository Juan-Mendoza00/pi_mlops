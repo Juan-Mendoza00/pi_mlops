{
 "cells": [
  {
   "cell_type": "code",
   "execution_count": 1,
   "metadata": {},
   "outputs": [],
   "source": [
    "import pandas as pd\n",
    "import numpy as np\n",
    "\n",
    "from functions import load_dfs"
   ]
  },
  {
   "cell_type": "code",
   "execution_count": 2,
   "metadata": {},
   "outputs": [
    {
     "name": "stdout",
     "output_type": "stream",
     "text": [
      "Succesfully load dataFrames\n"
     ]
    }
   ],
   "source": [
    "games, reviews, items = load_dfs()"
   ]
  },
  {
   "cell_type": "code",
   "execution_count": 4,
   "metadata": {},
   "outputs": [
    {
     "name": "stdout",
     "output_type": "stream",
     "text": [
      "<class 'pandas.core.frame.DataFrame'>\n",
      "RangeIndex: 32133 entries, 0 to 32132\n",
      "Data columns (total 8 columns):\n",
      " #   Column        Non-Null Count  Dtype \n",
      "---  ------        --------------  ----- \n",
      " 0   item_id       32133 non-null  int64 \n",
      " 1   developer     32133 non-null  object\n",
      " 2   app_name      32133 non-null  object\n",
      " 3   genres        32133 non-null  object\n",
      " 4   tags          32133 non-null  object\n",
      " 5   specs         32133 non-null  object\n",
      " 6   release_year  32133 non-null  object\n",
      " 7   price         32133 non-null  object\n",
      "dtypes: int64(1), object(7)\n",
      "memory usage: 2.0+ MB\n"
     ]
    }
   ],
   "source": [
    "games.info()"
   ]
  },
  {
   "cell_type": "code",
   "execution_count": 4,
   "metadata": {},
   "outputs": [
    {
     "name": "stdout",
     "output_type": "stream",
     "text": [
      "<class 'pandas.core.frame.DataFrame'>\n",
      "RangeIndex: 58430 entries, 0 to 58429\n",
      "Data columns (total 4 columns):\n",
      " #   Column     Non-Null Count  Dtype \n",
      "---  ------     --------------  ----- \n",
      " 0   user_id    58430 non-null  object\n",
      " 1   item_id    58430 non-null  int64 \n",
      " 2   recommend  58430 non-null  bool  \n",
      " 3   sentiment  58430 non-null  int64 \n",
      "dtypes: bool(1), int64(2), object(1)\n",
      "memory usage: 1.4+ MB\n"
     ]
    }
   ],
   "source": [
    "reviews.info()"
   ]
  },
  {
   "cell_type": "code",
   "execution_count": 269,
   "metadata": {},
   "outputs": [
    {
     "name": "stdout",
     "output_type": "stream",
     "text": [
      "<class 'pandas.core.frame.DataFrame'>\n",
      "RangeIndex: 3246352 entries, 0 to 3246351\n",
      "Data columns (total 3 columns):\n",
      " #   Column            Dtype \n",
      "---  ------            ----- \n",
      " 0   user_id           object\n",
      " 1   item_id           int64 \n",
      " 2   playtime_forever  int64 \n",
      "dtypes: int64(2), object(1)\n",
      "memory usage: 74.3+ MB\n"
     ]
    }
   ],
   "source": [
    "items.info()"
   ]
  },
  {
   "cell_type": "markdown",
   "metadata": {},
   "source": [
    "## Endpoints"
   ]
  },
  {
   "cell_type": "code",
   "execution_count": 215,
   "metadata": {},
   "outputs": [],
   "source": [
    "def PlayTimeGenre(genre:str):\n",
    "    \"\"\"Return year with the highest number of \n",
    "    hours played for the provided ``genre``\"\"\"\n",
    "\n",
    "    # Merged dataframe with release years and playtime\n",
    "    merged = (\n",
    "        items[['item_id', 'playtime_forever']]\n",
    "        .merge(games[['item_id', 'app_name', 'genres', 'release_year']], how='left')\n",
    "    )\n",
    "\n",
    "    # Mask to filter out genres\n",
    "    mask = (\n",
    "        merged['genres']\n",
    "        .map(lambda genres: genre in genres, na_action='ignore')\n",
    "        .fillna(False)\n",
    "    )\n",
    "\n",
    "    # Filtering using mask, grouping and aggregate sum\n",
    "    year = (\n",
    "        merged[mask]\n",
    "        .groupby(by='release_year') # Group by year\n",
    "        .sum(numeric_only=True) # Aggregated sum by year\n",
    "        ['playtime_forever'] #Selecting playtime\n",
    "        .idxmax() # Getting the index for the maximum \n",
    "                  # which is now the year after grouping\n",
    "    )\n",
    "\n",
    "    response = {f'Release year with highest playtime for \"{genre}\" genre': int(year)}\n",
    "    \n",
    "    return response"
   ]
  },
  {
   "cell_type": "code",
   "execution_count": 216,
   "metadata": {},
   "outputs": [
    {
     "data": {
      "text/plain": [
       "{'Release year with highest playtime for \"Action\" genre': 2012}"
      ]
     },
     "execution_count": 216,
     "metadata": {},
     "output_type": "execute_result"
    }
   ],
   "source": [
    "PlayTimeGenre('Action')"
   ]
  },
  {
   "cell_type": "code",
   "execution_count": 256,
   "metadata": {},
   "outputs": [],
   "source": [
    "def UserForGenre(genre: str):\n",
    "    \"\"\"Returns the user with the most hours played\n",
    "    given the ``genre``.\"\"\"\n",
    "\n",
    "    # Merged DataFrame with user id, playtime\n",
    "    # And genres for each item they've played\n",
    "    merged = (\n",
    "        items\n",
    "        .merge(games[['item_id', 'genres', 'release_year']], how='left')\n",
    "    )\n",
    "\n",
    "    # Mask for filtering\n",
    "    mask = (merged['genres']\n",
    "        .map(lambda genres: genre in genres, na_action='ignore')\n",
    "        .fillna(False)\n",
    "    )\n",
    "\n",
    "    # Filtering genres out, grouping by user and \n",
    "    # aggregating sum for playtime\n",
    "    user = (\n",
    "        merged[mask][['user_id', 'playtime_forever']]\n",
    "        .groupby('user_id')\n",
    "        .sum()\n",
    "        # Sorting in descending order\n",
    "        .sort_values(by='playtime_forever', ascending=False)\n",
    "    ).iloc[0].name # Name of first record which is the user's id\n",
    "\n",
    "    # Sum of hours played per year in a list\n",
    "    years_played = (\n",
    "        merged[mask][['user_id', 'release_year', 'playtime_forever']]\n",
    "        .groupby(['user_id', 'release_year'])\n",
    "        .sum()\n",
    "        .loc[user]\n",
    "    ) # This is a list with indexes as years and\n",
    "      # values as the sum of hours played\n",
    "\n",
    "    # Creating the response\n",
    "    response = {\n",
    "        'User': user,\n",
    "        'Playtime_year': {f'Year {idx}': years_played.loc[idx, 'playtime_forever'] for idx in years_played.index}\n",
    "    }\n",
    "    \n",
    "    return response"
   ]
  },
  {
   "cell_type": "code",
   "execution_count": 257,
   "metadata": {},
   "outputs": [
    {
     "data": {
      "text/plain": [
       "{'User': 'Sp3ctre',\n",
       " 'Playtime_year': {'Year 1995': 217,\n",
       "  'Year 1999': 44,\n",
       "  'Year 2000': 70644,\n",
       "  'Year 2001': 13,\n",
       "  'Year 2002': 238,\n",
       "  'Year 2003': 7673,\n",
       "  'Year 2004': 127411,\n",
       "  'Year 2005': 21339,\n",
       "  'Year 2006': 896,\n",
       "  'Year 2007': 112784,\n",
       "  'Year 2008': 224,\n",
       "  'Year 2009': 108326,\n",
       "  'Year 2010': 78083,\n",
       "  'Year 2011': 154896,\n",
       "  'Year 2012': 378296,\n",
       "  'Year 2013': 120461,\n",
       "  'Year 2014': 130691,\n",
       "  'Year 2015': 307511,\n",
       "  'Year 2016': 29576,\n",
       "  'Year 2017': 43327,\n",
       "  'Year Aug ': 394,\n",
       "  'Year Jun ': 4606,\n",
       "  'Year unknown': 1657}}"
      ]
     },
     "execution_count": 257,
     "metadata": {},
     "output_type": "execute_result"
    }
   ],
   "source": [
    "UserForGenre('Action')"
   ]
  },
  {
   "cell_type": "code",
   "execution_count": 258,
   "metadata": {},
   "outputs": [],
   "source": [
    "def UsersRecommend(year: int):\n",
    "    \"\"\"Top 3 of most recommended games for the \n",
    "    given ``year``.\"\"\"\n",
    "\n",
    "    # Merged DataFrame already filtered by \n",
    "    # recommendations and positive or neutral\n",
    "    # reviews\n",
    "    merged = (\n",
    "        reviews.loc[(reviews['recommend'] == True) & (reviews['sentiment'] > 0)]\n",
    "        .merge(games[['item_id', 'app_name', 'release_year']], how='left', on='item_id')\n",
    "    )\n",
    "\n",
    "    # Filtering by the year given\n",
    "    masked = merged[merged['release_year'] == str(year)]\n",
    "\n",
    "    # Getting titles of games\n",
    "    titles = (\n",
    "        masked[['app_name', 'sentiment']] # Selecting \n",
    "        .groupby('app_name').sum() # Grouping by app_name\n",
    "        .sort_values(by='sentiment', ascending=False) # Sorting in descending order\n",
    "    )[:3].index # Getting the top 3 indexes (now the names)\n",
    "\n",
    "    response = {f'Top {i+1}':titles[i] for i in range(3)}\n",
    "    return response"
   ]
  },
  {
   "cell_type": "code",
   "execution_count": 259,
   "metadata": {},
   "outputs": [
    {
     "data": {
      "text/plain": [
       "{'Top 1': \"Sid Meier's Civilization® V\",\n",
       " 'Top 2': 'Mount & Blade: Warband',\n",
       " 'Top 3': 'Fallout: New Vegas'}"
      ]
     },
     "execution_count": 259,
     "metadata": {},
     "output_type": "execute_result"
    }
   ],
   "source": [
    "UsersRecommend(2010)"
   ]
  },
  {
   "cell_type": "code",
   "execution_count": 263,
   "metadata": {},
   "outputs": [],
   "source": [
    "def UsersWorstDeveloper(year: int):\n",
    "    \"\"\"Top 3 developers with the least \n",
    "    recommended games for the given year.\n",
    "    \n",
    "    The criteria for selecting the top 3 \n",
    "    is simply counting bad reviews for \n",
    "    each developer in an already-filtered\n",
    "    DataFrame containing only negative reviews.\"\"\"\n",
    "\n",
    "    # Merged DataFrame already filtered by \n",
    "    # recommendations and negative reviews\n",
    "    merged = (\n",
    "    reviews.loc[(reviews['recommend'] == False) & (reviews['sentiment'] == 0)]\n",
    "    .merge(games[['item_id', 'release_year', 'developer']], how='left', on='item_id')\n",
    "    )\n",
    "\n",
    "    # Filtering by the year given\n",
    "    masked = merged[merged['release_year'] == str(year)]\n",
    "\n",
    "    # Getting titles\n",
    "    titles = masked['developer'].value_counts()[:3].index\n",
    "\n",
    "    # Creating json response\n",
    "    response = {f'Top worst dev {i+1}':titles[i] for i in range(3)}\n",
    "\n",
    "    return response"
   ]
  },
  {
   "cell_type": "code",
   "execution_count": 264,
   "metadata": {},
   "outputs": [
    {
     "data": {
      "text/plain": [
       "{'Top worst dev 1': 'id Software',\n",
       " 'Top worst dev 2': 'Avalanche Studios',\n",
       " 'Top worst dev 3': 'Telltale Games'}"
      ]
     },
     "execution_count": 264,
     "metadata": {},
     "output_type": "execute_result"
    }
   ],
   "source": [
    "UsersWorstDeveloper(2010)"
   ]
  },
  {
   "cell_type": "code",
   "execution_count": 267,
   "metadata": {},
   "outputs": [],
   "source": [
    "def sentiment_analysis(dev: str):\n",
    "    \"\"\"Returns a dictionary containing\n",
    "    the count for each review category.\n",
    "    \n",
    "    Negative: sentiment = 0 \n",
    "    Neutral: sentiment = 1\n",
    "    Positive: sentiment = 2\n",
    "    \"\"\"\n",
    "    # Merged DataFrame\n",
    "    merged = (\n",
    "        reviews\n",
    "        .merge(games[['item_id', 'release_year', 'developer']], how='left', on='item_id')\n",
    "    )\n",
    "\n",
    "    # Filtering developers\n",
    "    masked = merged[merged['developer'] == dev]\n",
    "\n",
    "    # Labels to assign\n",
    "    labels = ['Negative', 'Neutral', 'Positive']\n",
    "    # Counting and not sorting as indexes need to be ordered\n",
    "    # to match labels\n",
    "    revs_count = masked.value_counts('sentiment', sort=False)\n",
    "\n",
    "    # Building the response json  usind dict comprehension\n",
    "    response = {\n",
    "        dev: [f'{label} = {value}' for (label, value) in zip(labels, revs_count)]\n",
    "        }\n",
    "    return response\n"
   ]
  },
  {
   "cell_type": "code",
   "execution_count": 268,
   "metadata": {},
   "outputs": [
    {
     "data": {
      "text/plain": [
       "{'Valve': ['Negative = 1095', 'Neutral = 2482', 'Positive = 6005']}"
      ]
     },
     "execution_count": 268,
     "metadata": {},
     "output_type": "execute_result"
    }
   ],
   "source": [
    "sentiment_analysis('Valve')"
   ]
  }
 ],
 "metadata": {
  "kernelspec": {
   "display_name": "env",
   "language": "python",
   "name": "python3"
  },
  "language_info": {
   "codemirror_mode": {
    "name": "ipython",
    "version": 3
   },
   "file_extension": ".py",
   "mimetype": "text/x-python",
   "name": "python",
   "nbconvert_exporter": "python",
   "pygments_lexer": "ipython3",
   "version": "3.10.12"
  }
 },
 "nbformat": 4,
 "nbformat_minor": 2
}
