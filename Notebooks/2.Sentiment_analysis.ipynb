{
 "cells": [
  {
   "cell_type": "code",
   "execution_count": 1,
   "metadata": {},
   "outputs": [],
   "source": [
    "import pandas as pd\n",
    "import numpy as np\n",
    "import nltk\n",
    "\n",
    "# nltk.download('vader_lexicon')\n",
    "\n",
    "# Parent folder MUST be added.\n",
    "# Otherwise data folder will not be found.\n",
    "import sys\n",
    "sys.path.append('../')"
   ]
  },
  {
   "cell_type": "markdown",
   "metadata": {},
   "source": [
    "## **Sentiment Analysis for users reviews dataset**"
   ]
  },
  {
   "cell_type": "code",
   "execution_count": null,
   "metadata": {},
   "outputs": [],
   "source": [
    "df_revs = pd.read_json('../data/user_reviews_c.json.gz', compression='gzip', lines=True)\n",
    "print(df_revs.info())\n",
    "df_revs.head()"
   ]
  },
  {
   "cell_type": "markdown",
   "metadata": {},
   "source": [
    "### Preprocessing text - Createing new labeled column."
   ]
  },
  {
   "cell_type": "code",
   "execution_count": 13,
   "metadata": {},
   "outputs": [],
   "source": [
    "# Sentiment analyser\n",
    "from nltk.sentiment import SentimentIntensityAnalyzer\n",
    "\n",
    "def label_sentiment(text:str, analyser:SentimentIntensityAnalyzer):\n",
    "    # Get polarity score \n",
    "    scores = analyser.polarity_scores(text)\n",
    "    comp = scores['compound']\n",
    "    # Defining threshold for labeling\n",
    "    label = None\n",
    "    if comp < (-0.05): \n",
    "        label = 0\n",
    "    elif comp > (-0.05) and comp < 0.05: \n",
    "        label = 1\n",
    "    elif comp >= 0.1: \n",
    "        label = 2\n",
    "\n",
    "    # print(f'Sentence: {text}\\n',f'scores: {scores}')\n",
    "    return label\n",
    "# Creating the new column with label \n",
    "# {0: Negative, 1: Neutral, 2: Positive}"
   ]
  },
  {
   "cell_type": "code",
   "execution_count": 14,
   "metadata": {},
   "outputs": [
    {
     "data": {
      "text/plain": [
       "0        2.0\n",
       "1        2.0\n",
       "2        2.0\n",
       "3        2.0\n",
       "4        2.0\n",
       "        ... \n",
       "58425    2.0\n",
       "58426    2.0\n",
       "58427    2.0\n",
       "58428    2.0\n",
       "58429    2.0\n",
       "Name: sentiment, Length: 58430, dtype: float64"
      ]
     },
     "execution_count": 14,
     "metadata": {},
     "output_type": "execute_result"
    }
   ],
   "source": [
    "# Instance VADER sentiment analyser from nltk\n",
    "vader = SentimentIntensityAnalyzer()\n",
    "\n",
    "# New labeld column\n",
    "df_revs['sentiment'] = df_revs['review'].apply(label_sentiment, analyser=vader)\n",
    "df_revs['sentiment']"
   ]
  },
  {
   "cell_type": "code",
   "execution_count": 15,
   "metadata": {},
   "outputs": [
    {
     "name": "stdout",
     "output_type": "stream",
     "text": [
      "<class 'pandas.core.frame.DataFrame'>\n",
      "RangeIndex: 58430 entries, 0 to 58429\n",
      "Data columns (total 5 columns):\n",
      " #   Column     Non-Null Count  Dtype  \n",
      "---  ------     --------------  -----  \n",
      " 0   user_id    58430 non-null  object \n",
      " 1   item_id    58430 non-null  int64  \n",
      " 2   recommend  58430 non-null  bool   \n",
      " 3   review     58430 non-null  object \n",
      " 4   sentiment  57993 non-null  float64\n",
      "dtypes: bool(1), float64(1), int64(1), object(2)\n",
      "memory usage: 1.8+ MB\n"
     ]
    }
   ],
   "source": [
    "df_revs.info()"
   ]
  },
  {
   "cell_type": "markdown",
   "metadata": {},
   "source": [
    "Replace NaN values for neutral sentiment = 1"
   ]
  },
  {
   "cell_type": "code",
   "execution_count": 16,
   "metadata": {},
   "outputs": [],
   "source": [
    "df_revs['sentiment'].fillna(value=1, inplace=True)"
   ]
  },
  {
   "cell_type": "code",
   "execution_count": 17,
   "metadata": {},
   "outputs": [
    {
     "name": "stdout",
     "output_type": "stream",
     "text": [
      "<class 'pandas.core.frame.DataFrame'>\n",
      "RangeIndex: 58430 entries, 0 to 58429\n",
      "Data columns (total 5 columns):\n",
      " #   Column     Non-Null Count  Dtype  \n",
      "---  ------     --------------  -----  \n",
      " 0   user_id    58430 non-null  object \n",
      " 1   item_id    58430 non-null  int64  \n",
      " 2   recommend  58430 non-null  bool   \n",
      " 3   review     58430 non-null  object \n",
      " 4   sentiment  58430 non-null  float64\n",
      "dtypes: bool(1), float64(1), int64(1), object(2)\n",
      "memory usage: 1.8+ MB\n"
     ]
    }
   ],
   "source": [
    "df_revs.info()"
   ]
  },
  {
   "cell_type": "code",
   "execution_count": 18,
   "metadata": {},
   "outputs": [
    {
     "data": {
      "text/html": [
       "<div>\n",
       "<style scoped>\n",
       "    .dataframe tbody tr th:only-of-type {\n",
       "        vertical-align: middle;\n",
       "    }\n",
       "\n",
       "    .dataframe tbody tr th {\n",
       "        vertical-align: top;\n",
       "    }\n",
       "\n",
       "    .dataframe thead th {\n",
       "        text-align: right;\n",
       "    }\n",
       "</style>\n",
       "<table border=\"1\" class=\"dataframe\">\n",
       "  <thead>\n",
       "    <tr style=\"text-align: right;\">\n",
       "      <th></th>\n",
       "      <th>user_id</th>\n",
       "      <th>item_id</th>\n",
       "      <th>recommend</th>\n",
       "      <th>review</th>\n",
       "      <th>sentiment</th>\n",
       "    </tr>\n",
       "  </thead>\n",
       "  <tbody>\n",
       "    <tr>\n",
       "      <th>3088</th>\n",
       "      <td>2ZESTY4ME</td>\n",
       "      <td>550</td>\n",
       "      <td>True</td>\n",
       "      <td></td>\n",
       "      <td>1.0</td>\n",
       "    </tr>\n",
       "    <tr>\n",
       "      <th>4590</th>\n",
       "      <td>76561198093337643</td>\n",
       "      <td>550</td>\n",
       "      <td>True</td>\n",
       "      <td></td>\n",
       "      <td>1.0</td>\n",
       "    </tr>\n",
       "    <tr>\n",
       "      <th>15685</th>\n",
       "      <td>terencemok</td>\n",
       "      <td>218620</td>\n",
       "      <td>True</td>\n",
       "      <td></td>\n",
       "      <td>1.0</td>\n",
       "    </tr>\n",
       "    <tr>\n",
       "      <th>20037</th>\n",
       "      <td>76561197971285616</td>\n",
       "      <td>378041</td>\n",
       "      <td>True</td>\n",
       "      <td></td>\n",
       "      <td>1.0</td>\n",
       "    </tr>\n",
       "    <tr>\n",
       "      <th>21580</th>\n",
       "      <td>shez13</td>\n",
       "      <td>211820</td>\n",
       "      <td>True</td>\n",
       "      <td></td>\n",
       "      <td>1.0</td>\n",
       "    </tr>\n",
       "  </tbody>\n",
       "</table>\n",
       "</div>"
      ],
      "text/plain": [
       "                 user_id  item_id  recommend review  sentiment\n",
       "3088           2ZESTY4ME      550       True               1.0\n",
       "4590   76561198093337643      550       True               1.0\n",
       "15685         terencemok   218620       True               1.0\n",
       "20037  76561197971285616   378041       True               1.0\n",
       "21580             shez13   211820       True               1.0"
      ]
     },
     "execution_count": 18,
     "metadata": {},
     "output_type": "execute_result"
    }
   ],
   "source": [
    "df_revs[df_revs['review'] == ''].head()"
   ]
  },
  {
   "cell_type": "markdown",
   "metadata": {},
   "source": [
    "``NaN`` and ``empty`` values were replaced by 1 (neutral)\n",
    "\n",
    "Saving and Removing the old file"
   ]
  },
  {
   "cell_type": "code",
   "execution_count": 19,
   "metadata": {},
   "outputs": [],
   "source": [
    "# Final version of dataset without review column\n",
    "columns = ['user_id', 'item_id', 'recommend', 'sentiment']\n",
    "\n",
    "# Saving final consumible version of the dataset\n",
    "# from functions import gzip_json_file\n",
    "# gzip_json_file(\n",
    "#     path= './data/reviews.json.gz',\n",
    "#     df= df_revs,\n",
    "#     subset= columns\n",
    "# )\n",
    "\n",
    "# Saving csv format\n",
    "df_revs[columns].to_csv('../data/reviews.csv.gz', compression='gzip', index=False)\n",
    "\n",
    "# Deleting previous reviews file\n",
    "import os\n",
    "os.remove('../data/user_reviews_c.json.gz')"
   ]
  }
 ],
 "metadata": {
  "kernelspec": {
   "display_name": "env",
   "language": "python",
   "name": "python3"
  },
  "language_info": {
   "codemirror_mode": {
    "name": "ipython",
    "version": 3
   },
   "file_extension": ".py",
   "mimetype": "text/x-python",
   "name": "python",
   "nbconvert_exporter": "python",
   "pygments_lexer": "ipython3",
   "version": "3.10.12"
  }
 },
 "nbformat": 4,
 "nbformat_minor": 2
}
