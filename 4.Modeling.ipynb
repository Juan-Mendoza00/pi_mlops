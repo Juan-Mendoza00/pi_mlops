{
 "cells": [
  {
   "cell_type": "markdown",
   "metadata": {},
   "source": [
    "### Objective:\n",
    "\n",
    "The **main purpose** is to build a **Recommendation System** able to filter and compute similarity between items. \n",
    "\n",
    "In this case, a dataset of Steam Games was provided and the main goal then is to create the system from a content-based filtering approach using the Cosine Similarity Algorithm (which is a simple solution for the dot product formula from Liear Algebra)."
   ]
  },
  {
   "cell_type": "code",
   "execution_count": 1,
   "metadata": {},
   "outputs": [],
   "source": [
    "import numpy as np \n",
    "import pandas as pd \n",
    "import matplotlib.pyplot as plt \n",
    "import seaborn as sns"
   ]
  },
  {
   "cell_type": "markdown",
   "metadata": {},
   "source": [
    "## **Pre-modeling Stage**\n",
    "\n",
    "### Exploring data"
   ]
  },
  {
   "cell_type": "code",
   "execution_count": 38,
   "metadata": {},
   "outputs": [
    {
     "name": "stdout",
     "output_type": "stream",
     "text": [
      "<class 'pandas.core.frame.DataFrame'>\n",
      "RangeIndex: 32133 entries, 0 to 32132\n",
      "Data columns (total 8 columns):\n",
      " #   Column        Non-Null Count  Dtype \n",
      "---  ------        --------------  ----- \n",
      " 0   item_id       32133 non-null  int64 \n",
      " 1   developer     32133 non-null  object\n",
      " 2   app_name      32133 non-null  object\n",
      " 3   genres        32133 non-null  object\n",
      " 4   tags          32133 non-null  object\n",
      " 5   specs         32133 non-null  object\n",
      " 6   release_year  32133 non-null  object\n",
      " 7   price         32133 non-null  object\n",
      "dtypes: int64(1), object(7)\n",
      "memory usage: 2.0+ MB\n"
     ]
    }
   ],
   "source": [
    "df = pd.read_json('./data/games.json.gz', lines=True, compression='gzip')\n",
    "df.info()"
   ]
  },
  {
   "cell_type": "markdown",
   "metadata": {},
   "source": [
    "Notice columns are objects except for the id."
   ]
  },
  {
   "cell_type": "code",
   "execution_count": 39,
   "metadata": {},
   "outputs": [
    {
     "data": {
      "text/html": [
       "<div>\n",
       "<style scoped>\n",
       "    .dataframe tbody tr th:only-of-type {\n",
       "        vertical-align: middle;\n",
       "    }\n",
       "\n",
       "    .dataframe tbody tr th {\n",
       "        vertical-align: top;\n",
       "    }\n",
       "\n",
       "    .dataframe thead th {\n",
       "        text-align: right;\n",
       "    }\n",
       "</style>\n",
       "<table border=\"1\" class=\"dataframe\">\n",
       "  <thead>\n",
       "    <tr style=\"text-align: right;\">\n",
       "      <th></th>\n",
       "      <th>item_id</th>\n",
       "      <th>developer</th>\n",
       "      <th>app_name</th>\n",
       "      <th>genres</th>\n",
       "      <th>tags</th>\n",
       "      <th>specs</th>\n",
       "      <th>release_year</th>\n",
       "      <th>price</th>\n",
       "    </tr>\n",
       "  </thead>\n",
       "  <tbody>\n",
       "    <tr>\n",
       "      <th>0</th>\n",
       "      <td>761140</td>\n",
       "      <td>Kotoshiro</td>\n",
       "      <td>Lost Summoner Kitty</td>\n",
       "      <td>[Action, Casual, Indie, Simulation, Strategy]</td>\n",
       "      <td>[Strategy, Action, Indie, Casual, Simulation]</td>\n",
       "      <td>[Single-player]</td>\n",
       "      <td>2018</td>\n",
       "      <td>4.99</td>\n",
       "    </tr>\n",
       "    <tr>\n",
       "      <th>1</th>\n",
       "      <td>643980</td>\n",
       "      <td>Secret Level SRL</td>\n",
       "      <td>Ironbound</td>\n",
       "      <td>[Free to Play, Indie, RPG, Strategy]</td>\n",
       "      <td>[Free to Play, Strategy, Indie, RPG, Card Game...</td>\n",
       "      <td>[Single-player, Multi-player, Online Multi-Pla...</td>\n",
       "      <td>2018</td>\n",
       "      <td>Free To Play</td>\n",
       "    </tr>\n",
       "    <tr>\n",
       "      <th>2</th>\n",
       "      <td>670290</td>\n",
       "      <td>Poolians.com</td>\n",
       "      <td>Real Pool 3D - Poolians</td>\n",
       "      <td>[Casual, Free to Play, Indie, Simulation, Sports]</td>\n",
       "      <td>[Free to Play, Simulation, Sports, Casual, Ind...</td>\n",
       "      <td>[Single-player, Multi-player, Online Multi-Pla...</td>\n",
       "      <td>2017</td>\n",
       "      <td>Free to Play</td>\n",
       "    </tr>\n",
       "    <tr>\n",
       "      <th>3</th>\n",
       "      <td>767400</td>\n",
       "      <td>彼岸领域</td>\n",
       "      <td>弹炸人2222</td>\n",
       "      <td>[Action, Adventure, Casual]</td>\n",
       "      <td>[Action, Adventure, Casual]</td>\n",
       "      <td>[Single-player]</td>\n",
       "      <td>2017</td>\n",
       "      <td>0.99</td>\n",
       "    </tr>\n",
       "    <tr>\n",
       "      <th>4</th>\n",
       "      <td>773570</td>\n",
       "      <td>Unknown</td>\n",
       "      <td>Log Challenge</td>\n",
       "      <td>Empty</td>\n",
       "      <td>[Action, Indie, Casual, Sports]</td>\n",
       "      <td>[Single-player, Full controller support, HTC V...</td>\n",
       "      <td>Unknown</td>\n",
       "      <td>2.99</td>\n",
       "    </tr>\n",
       "  </tbody>\n",
       "</table>\n",
       "</div>"
      ],
      "text/plain": [
       "   item_id         developer                 app_name  \\\n",
       "0   761140         Kotoshiro      Lost Summoner Kitty   \n",
       "1   643980  Secret Level SRL                Ironbound   \n",
       "2   670290      Poolians.com  Real Pool 3D - Poolians   \n",
       "3   767400              彼岸领域                  弹炸人2222   \n",
       "4   773570           Unknown            Log Challenge   \n",
       "\n",
       "                                              genres  \\\n",
       "0      [Action, Casual, Indie, Simulation, Strategy]   \n",
       "1               [Free to Play, Indie, RPG, Strategy]   \n",
       "2  [Casual, Free to Play, Indie, Simulation, Sports]   \n",
       "3                        [Action, Adventure, Casual]   \n",
       "4                                              Empty   \n",
       "\n",
       "                                                tags  \\\n",
       "0      [Strategy, Action, Indie, Casual, Simulation]   \n",
       "1  [Free to Play, Strategy, Indie, RPG, Card Game...   \n",
       "2  [Free to Play, Simulation, Sports, Casual, Ind...   \n",
       "3                        [Action, Adventure, Casual]   \n",
       "4                    [Action, Indie, Casual, Sports]   \n",
       "\n",
       "                                               specs release_year  \\\n",
       "0                                    [Single-player]         2018   \n",
       "1  [Single-player, Multi-player, Online Multi-Pla...         2018   \n",
       "2  [Single-player, Multi-player, Online Multi-Pla...         2017   \n",
       "3                                    [Single-player]         2017   \n",
       "4  [Single-player, Full controller support, HTC V...      Unknown   \n",
       "\n",
       "          price  \n",
       "0          4.99  \n",
       "1  Free To Play  \n",
       "2  Free to Play  \n",
       "3          0.99  \n",
       "4          2.99  "
      ]
     },
     "execution_count": 39,
     "metadata": {},
     "output_type": "execute_result"
    }
   ],
   "source": [
    "# Copying to avoid any change on the original df\n",
    "df_games = df.copy()\n",
    "df_games.head()"
   ]
  },
  {
   "cell_type": "markdown",
   "metadata": {},
   "source": [
    "- How many games were released per year?\n",
    "- What is the maximum number of games? and the minimum?\n",
    "- How does it look?"
   ]
  },
  {
   "cell_type": "code",
   "execution_count": 40,
   "metadata": {},
   "outputs": [],
   "source": [
    "# Replacing values to int\n",
    "df_games['release_year'] = df_games['release_year'].replace('Unknown', np.NaN).map(lambda y: int(y), na_action='ignore')"
   ]
  },
  {
   "cell_type": "code",
   "execution_count": 41,
   "metadata": {},
   "outputs": [
    {
     "name": "stdout",
     "output_type": "stream",
     "text": [
      "Year when the most games were released: 2017.0 - 9560 games\n",
      "Year when the least games were released: 1986.0 - 1 game\n"
     ]
    }
   ],
   "source": [
    "# Value count for each year\n",
    "years = df_games['release_year'].value_counts()\n",
    "\n",
    "print(f'Year when the most games were released: {years.idxmax()} - {years[years.idxmax()]} games')\n",
    "print(f'Year when the least games were released: {years.idxmin()} - {years[years.idxmin()]} game')\n"
   ]
  },
  {
   "cell_type": "code",
   "execution_count": 42,
   "metadata": {},
   "outputs": [
    {
     "data": {
      "text/plain": [
       "(0.0, 1000.0)"
      ]
     },
     "execution_count": 42,
     "metadata": {},
     "output_type": "execute_result"
    },
    {
     "data": {
      "image/png": "[encoded data removed]",
      "text/plain": [
       "<Figure size 1000x500 with 1 Axes>"
      ]
     },
     "metadata": {},
     "output_type": "display_data"
    }
   ],
   "source": [
    "#Plotting\n",
    "ax = sns.countplot(df_games, x='release_year')\n",
    "ax.figure.set_size_inches(10,5)\n",
    "ax.tick_params(axis='x', rotation=90) # Rotate x ticks\n",
    "ax.set_ylim(top=1000) # Limitting y axis to 4000"
   ]
  },
  {
   "cell_type": "markdown",
   "metadata": {},
   "source": [
    "Number of games released in a year increases drastically since early 2000's.\n",
    "\n",
    "What about genres and tags?"
   ]
  },
  {
   "cell_type": "code",
   "execution_count": 43,
   "metadata": {},
   "outputs": [
    {
     "data": {
      "text/html": [
       "<div>\n",
       "<style scoped>\n",
       "    .dataframe tbody tr th:only-of-type {\n",
       "        vertical-align: middle;\n",
       "    }\n",
       "\n",
       "    .dataframe tbody tr th {\n",
       "        vertical-align: top;\n",
       "    }\n",
       "\n",
       "    .dataframe thead th {\n",
       "        text-align: right;\n",
       "    }\n",
       "</style>\n",
       "<table border=\"1\" class=\"dataframe\">\n",
       "  <thead>\n",
       "    <tr style=\"text-align: right;\">\n",
       "      <th></th>\n",
       "      <th>genres</th>\n",
       "      <th>tags</th>\n",
       "    </tr>\n",
       "  </thead>\n",
       "  <tbody>\n",
       "    <tr>\n",
       "      <th>0</th>\n",
       "      <td>[Action, Casual, Indie, Simulation, Strategy]</td>\n",
       "      <td>[Strategy, Action, Indie, Casual, Simulation]</td>\n",
       "    </tr>\n",
       "    <tr>\n",
       "      <th>1</th>\n",
       "      <td>[Free to Play, Indie, RPG, Strategy]</td>\n",
       "      <td>[Free to Play, Strategy, Indie, RPG, Card Game...</td>\n",
       "    </tr>\n",
       "    <tr>\n",
       "      <th>2</th>\n",
       "      <td>[Casual, Free to Play, Indie, Simulation, Sports]</td>\n",
       "      <td>[Free to Play, Simulation, Sports, Casual, Ind...</td>\n",
       "    </tr>\n",
       "    <tr>\n",
       "      <th>3</th>\n",
       "      <td>[Action, Adventure, Casual]</td>\n",
       "      <td>[Action, Adventure, Casual]</td>\n",
       "    </tr>\n",
       "    <tr>\n",
       "      <th>4</th>\n",
       "      <td>Empty</td>\n",
       "      <td>[Action, Indie, Casual, Sports]</td>\n",
       "    </tr>\n",
       "    <tr>\n",
       "      <th>...</th>\n",
       "      <td>...</td>\n",
       "      <td>...</td>\n",
       "    </tr>\n",
       "    <tr>\n",
       "      <th>32128</th>\n",
       "      <td>[Casual, Indie, Simulation, Strategy]</td>\n",
       "      <td>[Strategy, Indie, Casual, Simulation]</td>\n",
       "    </tr>\n",
       "    <tr>\n",
       "      <th>32129</th>\n",
       "      <td>[Casual, Indie, Strategy]</td>\n",
       "      <td>[Strategy, Indie, Casual]</td>\n",
       "    </tr>\n",
       "    <tr>\n",
       "      <th>32130</th>\n",
       "      <td>[Indie, Racing, Simulation]</td>\n",
       "      <td>[Indie, Simulation, Racing]</td>\n",
       "    </tr>\n",
       "    <tr>\n",
       "      <th>32131</th>\n",
       "      <td>[Casual, Indie]</td>\n",
       "      <td>[Indie, Casual, Puzzle, Singleplayer, Atmosphe...</td>\n",
       "    </tr>\n",
       "    <tr>\n",
       "      <th>32132</th>\n",
       "      <td>Empty</td>\n",
       "      <td>[Early Access, Adventure, Indie, Action, Simul...</td>\n",
       "    </tr>\n",
       "  </tbody>\n",
       "</table>\n",
       "<p>32133 rows × 2 columns</p>\n",
       "</div>"
      ],
      "text/plain": [
       "                                                  genres  \\\n",
       "0          [Action, Casual, Indie, Simulation, Strategy]   \n",
       "1                   [Free to Play, Indie, RPG, Strategy]   \n",
       "2      [Casual, Free to Play, Indie, Simulation, Sports]   \n",
       "3                            [Action, Adventure, Casual]   \n",
       "4                                                  Empty   \n",
       "...                                                  ...   \n",
       "32128              [Casual, Indie, Simulation, Strategy]   \n",
       "32129                          [Casual, Indie, Strategy]   \n",
       "32130                        [Indie, Racing, Simulation]   \n",
       "32131                                    [Casual, Indie]   \n",
       "32132                                              Empty   \n",
       "\n",
       "                                                    tags  \n",
       "0          [Strategy, Action, Indie, Casual, Simulation]  \n",
       "1      [Free to Play, Strategy, Indie, RPG, Card Game...  \n",
       "2      [Free to Play, Simulation, Sports, Casual, Ind...  \n",
       "3                            [Action, Adventure, Casual]  \n",
       "4                        [Action, Indie, Casual, Sports]  \n",
       "...                                                  ...  \n",
       "32128              [Strategy, Indie, Casual, Simulation]  \n",
       "32129                          [Strategy, Indie, Casual]  \n",
       "32130                        [Indie, Simulation, Racing]  \n",
       "32131  [Indie, Casual, Puzzle, Singleplayer, Atmosphe...  \n",
       "32132  [Early Access, Adventure, Indie, Action, Simul...  \n",
       "\n",
       "[32133 rows x 2 columns]"
      ]
     },
     "execution_count": 43,
     "metadata": {},
     "output_type": "execute_result"
    }
   ],
   "source": [
    "df_games[['genres', 'tags']]"
   ]
  },
  {
   "cell_type": "markdown",
   "metadata": {},
   "source": [
    "Taking a quick look it's easy to see that 'genres' and 'tags' for a game are quite similar and in some cases (look at the bottom entries) **tags can be more informative than genres**. That is, the **list of 'tags' is longer than the list of 'genres'**, which provides more information about the game.\n",
    "\n",
    "There must be 'Empty' values for both. What can be done with those empty values?"
   ]
  },
  {
   "cell_type": "code",
   "execution_count": 50,
   "metadata": {},
   "outputs": [
    {
     "name": "stdout",
     "output_type": "stream",
     "text": [
      "Games with empty lists of genres: 3282\n",
      "Games with empty lists of tags: 162\n"
     ]
    }
   ],
   "source": [
    "print('Games with empty lists of genres:',\n",
    "       len(df_games[df_games['genres'] == 'Empty'][['genres','tags']])\n",
    "    )\n",
    "\n",
    "print('Games with empty lists of tags:',\n",
    "       len(df_games[df_games['tags'] == 'Empty'][['genres','tags']])\n",
    "    )"
   ]
  },
  {
   "cell_type": "markdown",
   "metadata": {},
   "source": [
    "There is fewer empty values for tags atributte. \n",
    "\n",
    "One of the solutions could be **replacing those empty values in 'tags' column for its respective 'genre'** (when possible).\n",
    "\n",
    "Dataframe's fillna() method can be used to replace empty values with the corresponding genre. \n",
    "\n",
    "The transformation can be done as follows:"
   ]
  },
  {
   "cell_type": "code",
   "execution_count": 54,
   "metadata": {},
   "outputs": [
    {
     "data": {
      "text/html": [
       "<div>\n",
       "<style scoped>\n",
       "    .dataframe tbody tr th:only-of-type {\n",
       "        vertical-align: middle;\n",
       "    }\n",
       "\n",
       "    .dataframe tbody tr th {\n",
       "        vertical-align: top;\n",
       "    }\n",
       "\n",
       "    .dataframe thead th {\n",
       "        text-align: right;\n",
       "    }\n",
       "</style>\n",
       "<table border=\"1\" class=\"dataframe\">\n",
       "  <thead>\n",
       "    <tr style=\"text-align: right;\">\n",
       "      <th></th>\n",
       "      <th>item_id</th>\n",
       "      <th>developer</th>\n",
       "      <th>app_name</th>\n",
       "      <th>genres</th>\n",
       "      <th>tags</th>\n",
       "      <th>specs</th>\n",
       "      <th>release_year</th>\n",
       "      <th>price</th>\n",
       "    </tr>\n",
       "  </thead>\n",
       "  <tbody>\n",
       "    <tr>\n",
       "      <th>0</th>\n",
       "      <td>761140</td>\n",
       "      <td>Kotoshiro</td>\n",
       "      <td>Lost Summoner Kitty</td>\n",
       "      <td>[Action, Casual, Indie, Simulation, Strategy]</td>\n",
       "      <td>[Strategy, Action, Indie, Casual, Simulation]</td>\n",
       "      <td>[Single-player]</td>\n",
       "      <td>2018.0</td>\n",
       "      <td>4.99</td>\n",
       "    </tr>\n",
       "    <tr>\n",
       "      <th>1</th>\n",
       "      <td>643980</td>\n",
       "      <td>Secret Level SRL</td>\n",
       "      <td>Ironbound</td>\n",
       "      <td>[Free to Play, Indie, RPG, Strategy]</td>\n",
       "      <td>[Free to Play, Strategy, Indie, RPG, Card Game...</td>\n",
       "      <td>[Single-player, Multi-player, Online Multi-Pla...</td>\n",
       "      <td>2018.0</td>\n",
       "      <td>Free To Play</td>\n",
       "    </tr>\n",
       "    <tr>\n",
       "      <th>2</th>\n",
       "      <td>670290</td>\n",
       "      <td>Poolians.com</td>\n",
       "      <td>Real Pool 3D - Poolians</td>\n",
       "      <td>[Casual, Free to Play, Indie, Simulation, Sports]</td>\n",
       "      <td>[Free to Play, Simulation, Sports, Casual, Ind...</td>\n",
       "      <td>[Single-player, Multi-player, Online Multi-Pla...</td>\n",
       "      <td>2017.0</td>\n",
       "      <td>Free to Play</td>\n",
       "    </tr>\n",
       "    <tr>\n",
       "      <th>3</th>\n",
       "      <td>767400</td>\n",
       "      <td>彼岸领域</td>\n",
       "      <td>弹炸人2222</td>\n",
       "      <td>[Action, Adventure, Casual]</td>\n",
       "      <td>[Action, Adventure, Casual]</td>\n",
       "      <td>[Single-player]</td>\n",
       "      <td>2017.0</td>\n",
       "      <td>0.99</td>\n",
       "    </tr>\n",
       "    <tr>\n",
       "      <th>4</th>\n",
       "      <td>773570</td>\n",
       "      <td>Unknown</td>\n",
       "      <td>Log Challenge</td>\n",
       "      <td>Empty</td>\n",
       "      <td>[Action, Indie, Casual, Sports]</td>\n",
       "      <td>[Single-player, Full controller support, HTC V...</td>\n",
       "      <td>NaN</td>\n",
       "      <td>2.99</td>\n",
       "    </tr>\n",
       "    <tr>\n",
       "      <th>...</th>\n",
       "      <td>...</td>\n",
       "      <td>...</td>\n",
       "      <td>...</td>\n",
       "      <td>...</td>\n",
       "      <td>...</td>\n",
       "      <td>...</td>\n",
       "      <td>...</td>\n",
       "      <td>...</td>\n",
       "    </tr>\n",
       "    <tr>\n",
       "      <th>32128</th>\n",
       "      <td>773640</td>\n",
       "      <td>Nikita \"Ghost_RUS\"</td>\n",
       "      <td>Colony On Mars</td>\n",
       "      <td>[Casual, Indie, Simulation, Strategy]</td>\n",
       "      <td>[Strategy, Indie, Casual, Simulation]</td>\n",
       "      <td>[Single-player, Steam Achievements]</td>\n",
       "      <td>2018.0</td>\n",
       "      <td>1.99</td>\n",
       "    </tr>\n",
       "    <tr>\n",
       "      <th>32129</th>\n",
       "      <td>733530</td>\n",
       "      <td>Sacada</td>\n",
       "      <td>LOGistICAL: South Africa</td>\n",
       "      <td>[Casual, Indie, Strategy]</td>\n",
       "      <td>[Strategy, Indie, Casual]</td>\n",
       "      <td>[Single-player, Steam Achievements, Steam Clou...</td>\n",
       "      <td>2018.0</td>\n",
       "      <td>4.99</td>\n",
       "    </tr>\n",
       "    <tr>\n",
       "      <th>32130</th>\n",
       "      <td>610660</td>\n",
       "      <td>Laush Dmitriy Sergeevich</td>\n",
       "      <td>Russian Roads</td>\n",
       "      <td>[Indie, Racing, Simulation]</td>\n",
       "      <td>[Indie, Simulation, Racing]</td>\n",
       "      <td>[Single-player, Steam Achievements, Steam Trad...</td>\n",
       "      <td>2018.0</td>\n",
       "      <td>1.99</td>\n",
       "    </tr>\n",
       "    <tr>\n",
       "      <th>32131</th>\n",
       "      <td>658870</td>\n",
       "      <td>xropi,stev3ns</td>\n",
       "      <td>EXIT 2 - Directions</td>\n",
       "      <td>[Casual, Indie]</td>\n",
       "      <td>[Indie, Casual, Puzzle, Singleplayer, Atmosphe...</td>\n",
       "      <td>[Single-player, Steam Achievements, Steam Cloud]</td>\n",
       "      <td>2017.0</td>\n",
       "      <td>4.99</td>\n",
       "    </tr>\n",
       "    <tr>\n",
       "      <th>32132</th>\n",
       "      <td>681550</td>\n",
       "      <td>Unknown</td>\n",
       "      <td>Maze Run VR</td>\n",
       "      <td>Empty</td>\n",
       "      <td>[Early Access, Adventure, Indie, Action, Simul...</td>\n",
       "      <td>[Single-player, Stats, Steam Leaderboards, HTC...</td>\n",
       "      <td>NaN</td>\n",
       "      <td>4.99</td>\n",
       "    </tr>\n",
       "  </tbody>\n",
       "</table>\n",
       "<p>32133 rows × 8 columns</p>\n",
       "</div>"
      ],
      "text/plain": [
       "       item_id                 developer                  app_name  \\\n",
       "0       761140                 Kotoshiro       Lost Summoner Kitty   \n",
       "1       643980          Secret Level SRL                 Ironbound   \n",
       "2       670290              Poolians.com   Real Pool 3D - Poolians   \n",
       "3       767400                      彼岸领域                   弹炸人2222   \n",
       "4       773570                   Unknown             Log Challenge   \n",
       "...        ...                       ...                       ...   \n",
       "32128   773640        Nikita \"Ghost_RUS\"            Colony On Mars   \n",
       "32129   733530                    Sacada  LOGistICAL: South Africa   \n",
       "32130   610660  Laush Dmitriy Sergeevich             Russian Roads   \n",
       "32131   658870             xropi,stev3ns       EXIT 2 - Directions   \n",
       "32132   681550                   Unknown               Maze Run VR   \n",
       "\n",
       "                                                  genres  \\\n",
       "0          [Action, Casual, Indie, Simulation, Strategy]   \n",
       "1                   [Free to Play, Indie, RPG, Strategy]   \n",
       "2      [Casual, Free to Play, Indie, Simulation, Sports]   \n",
       "3                            [Action, Adventure, Casual]   \n",
       "4                                                  Empty   \n",
       "...                                                  ...   \n",
       "32128              [Casual, Indie, Simulation, Strategy]   \n",
       "32129                          [Casual, Indie, Strategy]   \n",
       "32130                        [Indie, Racing, Simulation]   \n",
       "32131                                    [Casual, Indie]   \n",
       "32132                                              Empty   \n",
       "\n",
       "                                                    tags  \\\n",
       "0          [Strategy, Action, Indie, Casual, Simulation]   \n",
       "1      [Free to Play, Strategy, Indie, RPG, Card Game...   \n",
       "2      [Free to Play, Simulation, Sports, Casual, Ind...   \n",
       "3                            [Action, Adventure, Casual]   \n",
       "4                        [Action, Indie, Casual, Sports]   \n",
       "...                                                  ...   \n",
       "32128              [Strategy, Indie, Casual, Simulation]   \n",
       "32129                          [Strategy, Indie, Casual]   \n",
       "32130                        [Indie, Simulation, Racing]   \n",
       "32131  [Indie, Casual, Puzzle, Singleplayer, Atmosphe...   \n",
       "32132  [Early Access, Adventure, Indie, Action, Simul...   \n",
       "\n",
       "                                                   specs  release_year  \\\n",
       "0                                        [Single-player]        2018.0   \n",
       "1      [Single-player, Multi-player, Online Multi-Pla...        2018.0   \n",
       "2      [Single-player, Multi-player, Online Multi-Pla...        2017.0   \n",
       "3                                        [Single-player]        2017.0   \n",
       "4      [Single-player, Full controller support, HTC V...           NaN   \n",
       "...                                                  ...           ...   \n",
       "32128                [Single-player, Steam Achievements]        2018.0   \n",
       "32129  [Single-player, Steam Achievements, Steam Clou...        2018.0   \n",
       "32130  [Single-player, Steam Achievements, Steam Trad...        2018.0   \n",
       "32131   [Single-player, Steam Achievements, Steam Cloud]        2017.0   \n",
       "32132  [Single-player, Stats, Steam Leaderboards, HTC...           NaN   \n",
       "\n",
       "              price  \n",
       "0              4.99  \n",
       "1      Free To Play  \n",
       "2      Free to Play  \n",
       "3              0.99  \n",
       "4              2.99  \n",
       "...             ...  \n",
       "32128          1.99  \n",
       "32129          4.99  \n",
       "32130          1.99  \n",
       "32131          4.99  \n",
       "32132          4.99  \n",
       "\n",
       "[32133 rows x 8 columns]"
      ]
     },
     "execution_count": 54,
     "metadata": {},
     "output_type": "execute_result"
    }
   ],
   "source": [
    "# Replacing empty with null values\n",
    "df_games['tags'].replace('Empty', np.NaN, inplace=True)\n",
    "\n",
    "# Replacing \n",
    "df_games.fillna({'tags': 'genres'}, inplace=True)\n",
    "\n",
    "print('Games with empty lists of genres:',\n",
    "       len(df_games[df_games['genres'] == 'Empty'][['genres','tags']])\n",
    "    )\n",
    "\n",
    "print('Games with empty lists of tags:',\n",
    "       len(df_games[df_games['tags'] == 'Empty'][['genres','tags']])\n",
    "    )"
   ]
  },
  {
   "cell_type": "markdown",
   "metadata": {},
   "source": [
    "Due to the fact that 'tags' column provides more iformation, **it will be used to build the Rec System** and 'genres' will be discarded.\n",
    "\n",
    "- Another interesting aspect about tags that can be observed is how long can a list of tags be. \n",
    "\n",
    "- How many tags can an item has on average?"
   ]
  },
  {
   "cell_type": "code",
   "execution_count": 90,
   "metadata": {},
   "outputs": [
    {
     "name": "stdout",
     "output_type": "stream",
     "text": [
      "Maximum number of tags: 20\n",
      "Average number of tags: 5.296\n",
      "Median: 4.0\n",
      "Std: 5\n"
     ]
    },
    {
     "data": {
      "text/plain": [
       "<Axes: xlabel='tags_number', ylabel='count'>"
      ]
     },
     "execution_count": 90,
     "metadata": {},
     "output_type": "execute_result"
    },
    {
     "data": {
      "image/png": "[encoded data removed]",
      "text/plain": [
       "<Figure size 640x480 with 1 Axes>"
      ]
     },
     "metadata": {},
     "output_type": "display_data"
    }
   ],
   "source": [
    "# Creating a new feature corresponding to \n",
    "# The counting of tags for each item\n",
    "df_games['tags_number'] = df_games['tags'].map(len)\n",
    "\n",
    "print('Maximum number of tags:', df_games['tags_number'].max())\n",
    "print('Average number of tags:', round(df_games['tags_number'].mean(), 3))\n",
    "print('Median:', df_games['tags_number'].median())\n",
    "print('Std:', round(df_games['tags_number'].std()))\n",
    "\n",
    "# Plotting distribution\n",
    "sns.countplot(df_games, x='tags_number')"
   ]
  },
  {
   "cell_type": "markdown",
   "metadata": {},
   "source": [
    "The same analisys can be applied for 'specs' column."
   ]
  },
  {
   "cell_type": "code",
   "execution_count": 91,
   "metadata": {},
   "outputs": [
    {
     "name": "stdout",
     "output_type": "stream",
     "text": [
      "Maximum number of specifications: 21\n",
      "Average number of specifications: 4.567\n",
      "Median: 4.0\n",
      "Std: 3\n"
     ]
    },
    {
     "data": {
      "text/plain": [
       "<Axes: xlabel='specs_number', ylabel='count'>"
      ]
     },
     "execution_count": 91,
     "metadata": {},
     "output_type": "execute_result"
    },
    {
     "data": {
      "image/png": "[encoded data removed]",
      "text/plain": [
       "<Figure size 640x480 with 1 Axes>"
      ]
     },
     "metadata": {},
     "output_type": "display_data"
    }
   ],
   "source": [
    "# Creating a new feature corresponding to \n",
    "# The counting of tags for each item\n",
    "df_games['specs_number'] = df_games['specs'].map(len)\n",
    "\n",
    "print('Maximum number of specifications:', df_games['specs_number'].max())\n",
    "print('Average number of specifications:', round(df_games['specs_number'].mean(), 3))\n",
    "print('Median:', df_games['specs_number'].median())\n",
    "print('Std:', round(df_games['specs_number'].std()))\n",
    "\n",
    "# Plotting distribution\n",
    "sns.countplot(df_games, x='specs_number')"
   ]
  },
  {
   "cell_type": "markdown",
   "metadata": {},
   "source": [
    "Both distributions for 'tags' and 'specs' are right skewed. There is plenty of items with a lot of tags (more than 10) and more than a thousand with 20 tags. 'specs' distribution looks more normal, although it presents positive skewness.\n",
    "\n",
    "Something similar can be done for prices, let's see.\n",
    "\n",
    "- Some preprocessing is needed because there are some 'Free to play' labels."
   ]
  },
  {
   "cell_type": "code",
   "execution_count": 92,
   "metadata": {},
   "outputs": [
    {
     "data": {
      "text/plain": [
       "0                4.99\n",
       "1        Free To Play\n",
       "2        Free to Play\n",
       "3                0.99\n",
       "4                2.99\n",
       "             ...     \n",
       "32128            1.99\n",
       "32129            4.99\n",
       "32130            1.99\n",
       "32131            4.99\n",
       "32132            4.99\n",
       "Name: price, Length: 32133, dtype: object"
      ]
     },
     "execution_count": 92,
     "metadata": {},
     "output_type": "execute_result"
    }
   ],
   "source": [
    "# Some preprocessing is needed\n",
    "# \n",
    "df_games['price']"
   ]
  },
  {
   "cell_type": "markdown",
   "metadata": {},
   "source": [
    "## **Recommender System** Using **Cosine Similarity**"
   ]
  },
  {
   "cell_type": "code",
   "execution_count": null,
   "metadata": {},
   "outputs": [],
   "source": []
  }
 ],
 "metadata": {
  "kernelspec": {
   "display_name": "env",
   "language": "python",
   "name": "python3"
  },
  "language_info": {
   "codemirror_mode": {
    "name": "ipython",
    "version": 3
   },
   "file_extension": ".py",
   "mimetype": "text/x-python",
   "name": "python",
   "nbconvert_exporter": "python",
   "pygments_lexer": "ipython3",
   "version": "3.10.12"
  }
 },
 "nbformat": 4,
 "nbformat_minor": 2
}
