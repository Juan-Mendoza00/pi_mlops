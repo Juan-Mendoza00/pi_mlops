{
 "cells": [
  {
   "cell_type": "markdown",
   "id": "8377f8c8",
   "metadata": {},
   "source": [
    "## Loading json data\n",
    "\n",
    "For this purpose, gzip and json modules provide tools to read gzipped files, so it's easy to do a quick inspection and loading of the data provided.\n",
    "\n",
    "After a very quick look to the json files i noticed they were different so i decided to make loading, cleaning and transforming separatedly."
   ]
  },
  {
   "cell_type": "markdown",
   "id": "fc872dc1",
   "metadata": {},
   "source": [
    "### 1) 'steam_games.json.gz' data"
   ]
  },
  {
   "cell_type": "code",
   "execution_count": 1,
   "id": "b2657cbd-2be9-43d9-ac0a-897c68780d49",
   "metadata": {},
   "outputs": [
    {
     "data": {
      "text/plain": [
       "<module 'functions' from '/home/juancml/Personal-Profesional/henry/pi_mlops/functions.py'>"
      ]
     },
     "execution_count": 1,
     "metadata": {},
     "output_type": "execute_result"
    }
   ],
   "source": [
    "import gzip\n",
    "import json\n",
    "import numpy as np \n",
    "import pandas as pd\n",
    "import importlib\n",
    "\n",
    "import functions as fts \n",
    "importlib.reload(fts)"
   ]
  },
  {
   "cell_type": "code",
   "execution_count": 2,
   "id": "d5f11421",
   "metadata": {},
   "outputs": [
    {
     "name": "stdout",
     "output_type": "stream",
     "text": [
      "Number of records: 120445\n",
      "Item type: <class 'dict'>\n",
      "120445\n"
     ]
    }
   ],
   "source": [
    "data = fts.load_json_gz('./raw_data/steam_games.json.gz', mode='rt', encoding='UTF-8')\n",
    "print(len(data))"
   ]
  },
  {
   "cell_type": "markdown",
   "id": "a23a48d3",
   "metadata": {},
   "source": [
    "120445 records for this data. Let's create a pandas dataFrame"
   ]
  },
  {
   "cell_type": "code",
   "execution_count": 57,
   "id": "c0d1fc97",
   "metadata": {},
   "outputs": [
    {
     "name": "stdout",
     "output_type": "stream",
     "text": [
      "<class 'pandas.core.frame.DataFrame'>\n",
      "RangeIndex: 120445 entries, 0 to 120444\n",
      "Data columns (total 13 columns):\n",
      " #   Column        Non-Null Count  Dtype \n",
      "---  ------        --------------  ----- \n",
      " 0   publisher     24083 non-null  object\n",
      " 1   genres        28852 non-null  object\n",
      " 2   app_name      32133 non-null  object\n",
      " 3   title         30085 non-null  object\n",
      " 4   url           32135 non-null  object\n",
      " 5   release_date  30068 non-null  object\n",
      " 6   tags          31972 non-null  object\n",
      " 7   reviews_url   32133 non-null  object\n",
      " 8   specs         31465 non-null  object\n",
      " 9   price         30758 non-null  object\n",
      " 10  early_access  32135 non-null  object\n",
      " 11  id            32133 non-null  object\n",
      " 12  developer     28836 non-null  object\n",
      "dtypes: object(13)\n",
      "memory usage: 11.9+ MB\n",
      "None\n"
     ]
    },
    {
     "data": {
      "text/html": [
       "<div>\n",
       "<style scoped>\n",
       "    .dataframe tbody tr th:only-of-type {\n",
       "        vertical-align: middle;\n",
       "    }\n",
       "\n",
       "    .dataframe tbody tr th {\n",
       "        vertical-align: top;\n",
       "    }\n",
       "\n",
       "    .dataframe thead th {\n",
       "        text-align: right;\n",
       "    }\n",
       "</style>\n",
       "<table border=\"1\" class=\"dataframe\">\n",
       "  <thead>\n",
       "    <tr style=\"text-align: right;\">\n",
       "      <th></th>\n",
       "      <th>publisher</th>\n",
       "      <th>genres</th>\n",
       "      <th>app_name</th>\n",
       "      <th>title</th>\n",
       "      <th>url</th>\n",
       "      <th>release_date</th>\n",
       "      <th>tags</th>\n",
       "      <th>reviews_url</th>\n",
       "      <th>specs</th>\n",
       "      <th>price</th>\n",
       "      <th>early_access</th>\n",
       "      <th>id</th>\n",
       "      <th>developer</th>\n",
       "    </tr>\n",
       "  </thead>\n",
       "  <tbody>\n",
       "    <tr>\n",
       "      <th>0</th>\n",
       "      <td>NaN</td>\n",
       "      <td>NaN</td>\n",
       "      <td>NaN</td>\n",
       "      <td>NaN</td>\n",
       "      <td>NaN</td>\n",
       "      <td>NaN</td>\n",
       "      <td>NaN</td>\n",
       "      <td>NaN</td>\n",
       "      <td>NaN</td>\n",
       "      <td>NaN</td>\n",
       "      <td>NaN</td>\n",
       "      <td>NaN</td>\n",
       "      <td>NaN</td>\n",
       "    </tr>\n",
       "    <tr>\n",
       "      <th>1</th>\n",
       "      <td>NaN</td>\n",
       "      <td>NaN</td>\n",
       "      <td>NaN</td>\n",
       "      <td>NaN</td>\n",
       "      <td>NaN</td>\n",
       "      <td>NaN</td>\n",
       "      <td>NaN</td>\n",
       "      <td>NaN</td>\n",
       "      <td>NaN</td>\n",
       "      <td>NaN</td>\n",
       "      <td>NaN</td>\n",
       "      <td>NaN</td>\n",
       "      <td>NaN</td>\n",
       "    </tr>\n",
       "    <tr>\n",
       "      <th>2</th>\n",
       "      <td>NaN</td>\n",
       "      <td>NaN</td>\n",
       "      <td>NaN</td>\n",
       "      <td>NaN</td>\n",
       "      <td>NaN</td>\n",
       "      <td>NaN</td>\n",
       "      <td>NaN</td>\n",
       "      <td>NaN</td>\n",
       "      <td>NaN</td>\n",
       "      <td>NaN</td>\n",
       "      <td>NaN</td>\n",
       "      <td>NaN</td>\n",
       "      <td>NaN</td>\n",
       "    </tr>\n",
       "    <tr>\n",
       "      <th>3</th>\n",
       "      <td>NaN</td>\n",
       "      <td>NaN</td>\n",
       "      <td>NaN</td>\n",
       "      <td>NaN</td>\n",
       "      <td>NaN</td>\n",
       "      <td>NaN</td>\n",
       "      <td>NaN</td>\n",
       "      <td>NaN</td>\n",
       "      <td>NaN</td>\n",
       "      <td>NaN</td>\n",
       "      <td>NaN</td>\n",
       "      <td>NaN</td>\n",
       "      <td>NaN</td>\n",
       "    </tr>\n",
       "    <tr>\n",
       "      <th>4</th>\n",
       "      <td>NaN</td>\n",
       "      <td>NaN</td>\n",
       "      <td>NaN</td>\n",
       "      <td>NaN</td>\n",
       "      <td>NaN</td>\n",
       "      <td>NaN</td>\n",
       "      <td>NaN</td>\n",
       "      <td>NaN</td>\n",
       "      <td>NaN</td>\n",
       "      <td>NaN</td>\n",
       "      <td>NaN</td>\n",
       "      <td>NaN</td>\n",
       "      <td>NaN</td>\n",
       "    </tr>\n",
       "  </tbody>\n",
       "</table>\n",
       "</div>"
      ],
      "text/plain": [
       "  publisher genres app_name title  url release_date tags reviews_url specs  \\\n",
       "0       NaN    NaN      NaN   NaN  NaN          NaN  NaN         NaN   NaN   \n",
       "1       NaN    NaN      NaN   NaN  NaN          NaN  NaN         NaN   NaN   \n",
       "2       NaN    NaN      NaN   NaN  NaN          NaN  NaN         NaN   NaN   \n",
       "3       NaN    NaN      NaN   NaN  NaN          NaN  NaN         NaN   NaN   \n",
       "4       NaN    NaN      NaN   NaN  NaN          NaN  NaN         NaN   NaN   \n",
       "\n",
       "  price early_access   id developer  \n",
       "0   NaN          NaN  NaN       NaN  \n",
       "1   NaN          NaN  NaN       NaN  \n",
       "2   NaN          NaN  NaN       NaN  \n",
       "3   NaN          NaN  NaN       NaN  \n",
       "4   NaN          NaN  NaN       NaN  "
      ]
     },
     "execution_count": 57,
     "metadata": {},
     "output_type": "execute_result"
    }
   ],
   "source": [
    "df_games = pd.DataFrame(data)\n",
    "print(df_games.info())\n",
    "df_games.head()"
   ]
  },
  {
   "cell_type": "markdown",
   "id": "57cac213",
   "metadata": {},
   "source": [
    "It seems to be null rows, so only rows with all null will be dropped"
   ]
  },
  {
   "cell_type": "code",
   "execution_count": 58,
   "id": "fa4a75a3",
   "metadata": {},
   "outputs": [
    {
     "name": "stdout",
     "output_type": "stream",
     "text": [
      "<class 'pandas.core.frame.DataFrame'>\n",
      "RangeIndex: 32135 entries, 0 to 32134\n",
      "Data columns (total 13 columns):\n",
      " #   Column        Non-Null Count  Dtype \n",
      "---  ------        --------------  ----- \n",
      " 0   publisher     24083 non-null  object\n",
      " 1   genres        28852 non-null  object\n",
      " 2   app_name      32133 non-null  object\n",
      " 3   title         30085 non-null  object\n",
      " 4   url           32135 non-null  object\n",
      " 5   release_date  30068 non-null  object\n",
      " 6   tags          31972 non-null  object\n",
      " 7   reviews_url   32133 non-null  object\n",
      " 8   specs         31465 non-null  object\n",
      " 9   price         30758 non-null  object\n",
      " 10  early_access  32135 non-null  object\n",
      " 11  id            32133 non-null  object\n",
      " 12  developer     28836 non-null  object\n",
      "dtypes: object(13)\n",
      "memory usage: 3.2+ MB\n",
      "None\n"
     ]
    },
    {
     "data": {
      "text/html": [
       "<div>\n",
       "<style scoped>\n",
       "    .dataframe tbody tr th:only-of-type {\n",
       "        vertical-align: middle;\n",
       "    }\n",
       "\n",
       "    .dataframe tbody tr th {\n",
       "        vertical-align: top;\n",
       "    }\n",
       "\n",
       "    .dataframe thead th {\n",
       "        text-align: right;\n",
       "    }\n",
       "</style>\n",
       "<table border=\"1\" class=\"dataframe\">\n",
       "  <thead>\n",
       "    <tr style=\"text-align: right;\">\n",
       "      <th></th>\n",
       "      <th>publisher</th>\n",
       "      <th>genres</th>\n",
       "      <th>app_name</th>\n",
       "      <th>title</th>\n",
       "      <th>url</th>\n",
       "      <th>release_date</th>\n",
       "      <th>tags</th>\n",
       "      <th>reviews_url</th>\n",
       "      <th>specs</th>\n",
       "      <th>price</th>\n",
       "      <th>early_access</th>\n",
       "      <th>id</th>\n",
       "      <th>developer</th>\n",
       "    </tr>\n",
       "  </thead>\n",
       "  <tbody>\n",
       "    <tr>\n",
       "      <th>0</th>\n",
       "      <td>Kotoshiro</td>\n",
       "      <td>[Action, Casual, Indie, Simulation, Strategy]</td>\n",
       "      <td>Lost Summoner Kitty</td>\n",
       "      <td>Lost Summoner Kitty</td>\n",
       "      <td>http://store.steampowered.com/app/761140/Lost_...</td>\n",
       "      <td>2018-01-04</td>\n",
       "      <td>[Strategy, Action, Indie, Casual, Simulation]</td>\n",
       "      <td>http://steamcommunity.com/app/761140/reviews/?...</td>\n",
       "      <td>[Single-player]</td>\n",
       "      <td>4.99</td>\n",
       "      <td>False</td>\n",
       "      <td>761140</td>\n",
       "      <td>Kotoshiro</td>\n",
       "    </tr>\n",
       "    <tr>\n",
       "      <th>1</th>\n",
       "      <td>Making Fun, Inc.</td>\n",
       "      <td>[Free to Play, Indie, RPG, Strategy]</td>\n",
       "      <td>Ironbound</td>\n",
       "      <td>Ironbound</td>\n",
       "      <td>http://store.steampowered.com/app/643980/Ironb...</td>\n",
       "      <td>2018-01-04</td>\n",
       "      <td>[Free to Play, Strategy, Indie, RPG, Card Game...</td>\n",
       "      <td>http://steamcommunity.com/app/643980/reviews/?...</td>\n",
       "      <td>[Single-player, Multi-player, Online Multi-Pla...</td>\n",
       "      <td>Free To Play</td>\n",
       "      <td>False</td>\n",
       "      <td>643980</td>\n",
       "      <td>Secret Level SRL</td>\n",
       "    </tr>\n",
       "    <tr>\n",
       "      <th>2</th>\n",
       "      <td>Poolians.com</td>\n",
       "      <td>[Casual, Free to Play, Indie, Simulation, Sports]</td>\n",
       "      <td>Real Pool 3D - Poolians</td>\n",
       "      <td>Real Pool 3D - Poolians</td>\n",
       "      <td>http://store.steampowered.com/app/670290/Real_...</td>\n",
       "      <td>2017-07-24</td>\n",
       "      <td>[Free to Play, Simulation, Sports, Casual, Ind...</td>\n",
       "      <td>http://steamcommunity.com/app/670290/reviews/?...</td>\n",
       "      <td>[Single-player, Multi-player, Online Multi-Pla...</td>\n",
       "      <td>Free to Play</td>\n",
       "      <td>False</td>\n",
       "      <td>670290</td>\n",
       "      <td>Poolians.com</td>\n",
       "    </tr>\n",
       "    <tr>\n",
       "      <th>3</th>\n",
       "      <td>彼岸领域</td>\n",
       "      <td>[Action, Adventure, Casual]</td>\n",
       "      <td>弹炸人2222</td>\n",
       "      <td>弹炸人2222</td>\n",
       "      <td>http://store.steampowered.com/app/767400/2222/</td>\n",
       "      <td>2017-12-07</td>\n",
       "      <td>[Action, Adventure, Casual]</td>\n",
       "      <td>http://steamcommunity.com/app/767400/reviews/?...</td>\n",
       "      <td>[Single-player]</td>\n",
       "      <td>0.99</td>\n",
       "      <td>False</td>\n",
       "      <td>767400</td>\n",
       "      <td>彼岸领域</td>\n",
       "    </tr>\n",
       "    <tr>\n",
       "      <th>4</th>\n",
       "      <td>NaN</td>\n",
       "      <td>NaN</td>\n",
       "      <td>Log Challenge</td>\n",
       "      <td>NaN</td>\n",
       "      <td>http://store.steampowered.com/app/773570/Log_C...</td>\n",
       "      <td>NaN</td>\n",
       "      <td>[Action, Indie, Casual, Sports]</td>\n",
       "      <td>http://steamcommunity.com/app/773570/reviews/?...</td>\n",
       "      <td>[Single-player, Full controller support, HTC V...</td>\n",
       "      <td>2.99</td>\n",
       "      <td>False</td>\n",
       "      <td>773570</td>\n",
       "      <td>NaN</td>\n",
       "    </tr>\n",
       "  </tbody>\n",
       "</table>\n",
       "</div>"
      ],
      "text/plain": [
       "          publisher                                             genres  \\\n",
       "0         Kotoshiro      [Action, Casual, Indie, Simulation, Strategy]   \n",
       "1  Making Fun, Inc.               [Free to Play, Indie, RPG, Strategy]   \n",
       "2      Poolians.com  [Casual, Free to Play, Indie, Simulation, Sports]   \n",
       "3              彼岸领域                        [Action, Adventure, Casual]   \n",
       "4               NaN                                                NaN   \n",
       "\n",
       "                  app_name                    title  \\\n",
       "0      Lost Summoner Kitty      Lost Summoner Kitty   \n",
       "1                Ironbound                Ironbound   \n",
       "2  Real Pool 3D - Poolians  Real Pool 3D - Poolians   \n",
       "3                  弹炸人2222                  弹炸人2222   \n",
       "4            Log Challenge                      NaN   \n",
       "\n",
       "                                                 url release_date  \\\n",
       "0  http://store.steampowered.com/app/761140/Lost_...   2018-01-04   \n",
       "1  http://store.steampowered.com/app/643980/Ironb...   2018-01-04   \n",
       "2  http://store.steampowered.com/app/670290/Real_...   2017-07-24   \n",
       "3     http://store.steampowered.com/app/767400/2222/   2017-12-07   \n",
       "4  http://store.steampowered.com/app/773570/Log_C...          NaN   \n",
       "\n",
       "                                                tags  \\\n",
       "0      [Strategy, Action, Indie, Casual, Simulation]   \n",
       "1  [Free to Play, Strategy, Indie, RPG, Card Game...   \n",
       "2  [Free to Play, Simulation, Sports, Casual, Ind...   \n",
       "3                        [Action, Adventure, Casual]   \n",
       "4                    [Action, Indie, Casual, Sports]   \n",
       "\n",
       "                                         reviews_url  \\\n",
       "0  http://steamcommunity.com/app/761140/reviews/?...   \n",
       "1  http://steamcommunity.com/app/643980/reviews/?...   \n",
       "2  http://steamcommunity.com/app/670290/reviews/?...   \n",
       "3  http://steamcommunity.com/app/767400/reviews/?...   \n",
       "4  http://steamcommunity.com/app/773570/reviews/?...   \n",
       "\n",
       "                                               specs         price  \\\n",
       "0                                    [Single-player]          4.99   \n",
       "1  [Single-player, Multi-player, Online Multi-Pla...  Free To Play   \n",
       "2  [Single-player, Multi-player, Online Multi-Pla...  Free to Play   \n",
       "3                                    [Single-player]          0.99   \n",
       "4  [Single-player, Full controller support, HTC V...          2.99   \n",
       "\n",
       "  early_access      id         developer  \n",
       "0        False  761140         Kotoshiro  \n",
       "1        False  643980  Secret Level SRL  \n",
       "2        False  670290      Poolians.com  \n",
       "3        False  767400              彼岸领域  \n",
       "4        False  773570               NaN  "
      ]
     },
     "execution_count": 58,
     "metadata": {},
     "output_type": "execute_result"
    }
   ],
   "source": [
    "df_games.dropna(axis=0, how='all', inplace=True, ignore_index=True)\n",
    "print(df_games.info())\n",
    "df_games.head()"
   ]
  },
  {
   "cell_type": "markdown",
   "id": "2a9c4b48",
   "metadata": {},
   "source": [
    "32135 entries but 32133 non-mull id. Can't have entries without 'id' so let's check if there is duplicated entries or Null id value."
   ]
  },
  {
   "cell_type": "code",
   "execution_count": 59,
   "id": "329c60cc",
   "metadata": {},
   "outputs": [
    {
     "data": {
      "text/html": [
       "<div>\n",
       "<style scoped>\n",
       "    .dataframe tbody tr th:only-of-type {\n",
       "        vertical-align: middle;\n",
       "    }\n",
       "\n",
       "    .dataframe tbody tr th {\n",
       "        vertical-align: top;\n",
       "    }\n",
       "\n",
       "    .dataframe thead th {\n",
       "        text-align: right;\n",
       "    }\n",
       "</style>\n",
       "<table border=\"1\" class=\"dataframe\">\n",
       "  <thead>\n",
       "    <tr style=\"text-align: right;\">\n",
       "      <th></th>\n",
       "      <th>publisher</th>\n",
       "      <th>genres</th>\n",
       "      <th>app_name</th>\n",
       "      <th>title</th>\n",
       "      <th>url</th>\n",
       "      <th>release_date</th>\n",
       "      <th>tags</th>\n",
       "      <th>reviews_url</th>\n",
       "      <th>specs</th>\n",
       "      <th>price</th>\n",
       "      <th>early_access</th>\n",
       "      <th>id</th>\n",
       "      <th>developer</th>\n",
       "    </tr>\n",
       "  </thead>\n",
       "  <tbody>\n",
       "    <tr>\n",
       "      <th>74</th>\n",
       "      <td>NaN</td>\n",
       "      <td>NaN</td>\n",
       "      <td>NaN</td>\n",
       "      <td>NaN</td>\n",
       "      <td>http://store.steampowered.com/</td>\n",
       "      <td>NaN</td>\n",
       "      <td>NaN</td>\n",
       "      <td>NaN</td>\n",
       "      <td>NaN</td>\n",
       "      <td>19.99</td>\n",
       "      <td>False</td>\n",
       "      <td>NaN</td>\n",
       "      <td>NaN</td>\n",
       "    </tr>\n",
       "    <tr>\n",
       "      <th>30961</th>\n",
       "      <td>Warner Bros. Interactive Entertainment, Feral ...</td>\n",
       "      <td>[Action, Adventure]</td>\n",
       "      <td>Batman: Arkham City - Game of the Year Edition</td>\n",
       "      <td>Batman: Arkham City - Game of the Year Edition</td>\n",
       "      <td>http://store.steampowered.com/app/200260</td>\n",
       "      <td>2012-09-07</td>\n",
       "      <td>[Action, Open World, Batman, Adventure, Stealt...</td>\n",
       "      <td>NaN</td>\n",
       "      <td>[Single-player, Steam Achievements, Steam Trad...</td>\n",
       "      <td>19.99</td>\n",
       "      <td>False</td>\n",
       "      <td>NaN</td>\n",
       "      <td>Rocksteady Studios,Feral Interactive (Mac)</td>\n",
       "    </tr>\n",
       "  </tbody>\n",
       "</table>\n",
       "</div>"
      ],
      "text/plain": [
       "                                               publisher               genres  \\\n",
       "74                                                   NaN                  NaN   \n",
       "30961  Warner Bros. Interactive Entertainment, Feral ...  [Action, Adventure]   \n",
       "\n",
       "                                             app_name  \\\n",
       "74                                                NaN   \n",
       "30961  Batman: Arkham City - Game of the Year Edition   \n",
       "\n",
       "                                                title  \\\n",
       "74                                                NaN   \n",
       "30961  Batman: Arkham City - Game of the Year Edition   \n",
       "\n",
       "                                            url release_date  \\\n",
       "74               http://store.steampowered.com/          NaN   \n",
       "30961  http://store.steampowered.com/app/200260   2012-09-07   \n",
       "\n",
       "                                                    tags reviews_url  \\\n",
       "74                                                   NaN         NaN   \n",
       "30961  [Action, Open World, Batman, Adventure, Stealt...         NaN   \n",
       "\n",
       "                                                   specs  price early_access  \\\n",
       "74                                                   NaN  19.99        False   \n",
       "30961  [Single-player, Steam Achievements, Steam Trad...  19.99        False   \n",
       "\n",
       "        id                                   developer  \n",
       "74     NaN                                         NaN  \n",
       "30961  NaN  Rocksteady Studios,Feral Interactive (Mac)  "
      ]
     },
     "execution_count": 59,
     "metadata": {},
     "output_type": "execute_result"
    }
   ],
   "source": [
    "df_games[df_games['id'].isnull()]"
   ]
  },
  {
   "cell_type": "markdown",
   "id": "3973d606",
   "metadata": {},
   "source": [
    "It turns out that i already have an entrie for \"Batman: Arkham City - Game of the Year Edition\" and the other one is empty.\n",
    "\n",
    " **I can drop both**"
   ]
  },
  {
   "cell_type": "code",
   "execution_count": 60,
   "id": "d28803db",
   "metadata": {},
   "outputs": [
    {
     "data": {
      "text/html": [
       "<div>\n",
       "<style scoped>\n",
       "    .dataframe tbody tr th:only-of-type {\n",
       "        vertical-align: middle;\n",
       "    }\n",
       "\n",
       "    .dataframe tbody tr th {\n",
       "        vertical-align: top;\n",
       "    }\n",
       "\n",
       "    .dataframe thead th {\n",
       "        text-align: right;\n",
       "    }\n",
       "</style>\n",
       "<table border=\"1\" class=\"dataframe\">\n",
       "  <thead>\n",
       "    <tr style=\"text-align: right;\">\n",
       "      <th></th>\n",
       "      <th>publisher</th>\n",
       "      <th>genres</th>\n",
       "      <th>app_name</th>\n",
       "      <th>title</th>\n",
       "      <th>url</th>\n",
       "      <th>release_date</th>\n",
       "      <th>tags</th>\n",
       "      <th>reviews_url</th>\n",
       "      <th>specs</th>\n",
       "      <th>price</th>\n",
       "      <th>early_access</th>\n",
       "      <th>id</th>\n",
       "      <th>developer</th>\n",
       "    </tr>\n",
       "  </thead>\n",
       "  <tbody>\n",
       "    <tr>\n",
       "      <th>1068</th>\n",
       "      <td>Warner Bros. Interactive Entertainment, Feral ...</td>\n",
       "      <td>[Action, Adventure]</td>\n",
       "      <td>Batman: Arkham City - Game of the Year Edition</td>\n",
       "      <td>Batman: Arkham City - Game of the Year Edition</td>\n",
       "      <td>http://store.steampowered.com/app/200260/Batma...</td>\n",
       "      <td>2012-09-07</td>\n",
       "      <td>[Action, Open World, Batman, Adventure, Stealt...</td>\n",
       "      <td>http://steamcommunity.com/app/200260/reviews/?...</td>\n",
       "      <td>[Single-player, Steam Achievements, Steam Trad...</td>\n",
       "      <td>19.99</td>\n",
       "      <td>False</td>\n",
       "      <td>200260</td>\n",
       "      <td>Rocksteady Studios,Feral Interactive (Mac)</td>\n",
       "    </tr>\n",
       "    <tr>\n",
       "      <th>30961</th>\n",
       "      <td>Warner Bros. Interactive Entertainment, Feral ...</td>\n",
       "      <td>[Action, Adventure]</td>\n",
       "      <td>Batman: Arkham City - Game of the Year Edition</td>\n",
       "      <td>Batman: Arkham City - Game of the Year Edition</td>\n",
       "      <td>http://store.steampowered.com/app/200260</td>\n",
       "      <td>2012-09-07</td>\n",
       "      <td>[Action, Open World, Batman, Adventure, Stealt...</td>\n",
       "      <td>NaN</td>\n",
       "      <td>[Single-player, Steam Achievements, Steam Trad...</td>\n",
       "      <td>19.99</td>\n",
       "      <td>False</td>\n",
       "      <td>NaN</td>\n",
       "      <td>Rocksteady Studios,Feral Interactive (Mac)</td>\n",
       "    </tr>\n",
       "  </tbody>\n",
       "</table>\n",
       "</div>"
      ],
      "text/plain": [
       "                                               publisher               genres  \\\n",
       "1068   Warner Bros. Interactive Entertainment, Feral ...  [Action, Adventure]   \n",
       "30961  Warner Bros. Interactive Entertainment, Feral ...  [Action, Adventure]   \n",
       "\n",
       "                                             app_name  \\\n",
       "1068   Batman: Arkham City - Game of the Year Edition   \n",
       "30961  Batman: Arkham City - Game of the Year Edition   \n",
       "\n",
       "                                                title  \\\n",
       "1068   Batman: Arkham City - Game of the Year Edition   \n",
       "30961  Batman: Arkham City - Game of the Year Edition   \n",
       "\n",
       "                                                     url release_date  \\\n",
       "1068   http://store.steampowered.com/app/200260/Batma...   2012-09-07   \n",
       "30961           http://store.steampowered.com/app/200260   2012-09-07   \n",
       "\n",
       "                                                    tags  \\\n",
       "1068   [Action, Open World, Batman, Adventure, Stealt...   \n",
       "30961  [Action, Open World, Batman, Adventure, Stealt...   \n",
       "\n",
       "                                             reviews_url  \\\n",
       "1068   http://steamcommunity.com/app/200260/reviews/?...   \n",
       "30961                                                NaN   \n",
       "\n",
       "                                                   specs  price early_access  \\\n",
       "1068   [Single-player, Steam Achievements, Steam Trad...  19.99        False   \n",
       "30961  [Single-player, Steam Achievements, Steam Trad...  19.99        False   \n",
       "\n",
       "           id                                   developer  \n",
       "1068   200260  Rocksteady Studios,Feral Interactive (Mac)  \n",
       "30961     NaN  Rocksteady Studios,Feral Interactive (Mac)  "
      ]
     },
     "execution_count": 60,
     "metadata": {},
     "output_type": "execute_result"
    }
   ],
   "source": [
    "df_games[df_games['app_name'] == 'Batman: Arkham City - Game of the Year Edition']"
   ]
  },
  {
   "cell_type": "code",
   "execution_count": 61,
   "id": "bbf58495",
   "metadata": {},
   "outputs": [
    {
     "name": "stdout",
     "output_type": "stream",
     "text": [
      "<class 'pandas.core.frame.DataFrame'>\n",
      "Index: 32133 entries, 0 to 32134\n",
      "Data columns (total 13 columns):\n",
      " #   Column        Non-Null Count  Dtype \n",
      "---  ------        --------------  ----- \n",
      " 0   publisher     24082 non-null  object\n",
      " 1   genres        28851 non-null  object\n",
      " 2   app_name      32132 non-null  object\n",
      " 3   title         30084 non-null  object\n",
      " 4   url           32133 non-null  object\n",
      " 5   release_date  30067 non-null  object\n",
      " 6   tags          31971 non-null  object\n",
      " 7   reviews_url   32133 non-null  object\n",
      " 8   specs         31464 non-null  object\n",
      " 9   price         30756 non-null  object\n",
      " 10  early_access  32133 non-null  object\n",
      " 11  id            32133 non-null  object\n",
      " 12  developer     28835 non-null  object\n",
      "dtypes: object(13)\n",
      "memory usage: 3.4+ MB\n"
     ]
    }
   ],
   "source": [
    "# Dropping using indexes\n",
    "df_games.drop([74, 30961], axis=0, inplace=True)\n",
    "df_games.info()"
   ]
  },
  {
   "cell_type": "code",
   "execution_count": 62,
   "id": "60d7ba5a",
   "metadata": {},
   "outputs": [],
   "source": [
    "# Null handling\n",
    "df_games.fillna(\n",
    "    {\n",
    "        'developer': 'Unknown',\n",
    "        'genres': 'Empty',\n",
    "        'app_name': 'Unknown',\n",
    "        'release_date': 'Unknown',\n",
    "        'tags': 'Empty',\n",
    "        'specs': 'Empty',\n",
    "        'price': 0\n",
    "    },\n",
    "    inplace=True\n",
    ")"
   ]
  },
  {
   "cell_type": "markdown",
   "id": "bdd60703",
   "metadata": {},
   "source": [
    "**32313 records left**\n",
    "\n",
    "So the idea is to keep it simple, i will discard columns i won't need for the analysis and keep the most informative ones. That is, those that allow me to create relationships (games-reviews, user-items, for example)."
   ]
  },
  {
   "cell_type": "code",
   "execution_count": 63,
   "id": "a957f0f4",
   "metadata": {},
   "outputs": [],
   "source": [
    "# Funciton to extract only the year of dates\n",
    "def get_year(y:str):\n",
    "    # There are different formats along the column\n",
    "    # And also strings from filling Na values before\n",
    "    # Using exception handling to avoid errors and return years\n",
    "    try:\n",
    "        date = pd.to_datetime(y, format='mixed')\n",
    "        return date.year\n",
    "    except:\n",
    "        return 'Unknown'\n",
    "    \n",
    "\n",
    "# Getting only the year\n",
    "df_games['release_date'] = df_games['release_date'].apply(get_year)"
   ]
  },
  {
   "cell_type": "code",
   "execution_count": 64,
   "id": "932eaa8c",
   "metadata": {},
   "outputs": [
    {
     "name": "stdout",
     "output_type": "stream",
     "text": [
      "File saved at \"data/games.json.gz\"\n"
     ]
    }
   ],
   "source": [
    "# Renaming id and release date columns\n",
    "df_games.rename(columns={'id':'item_id', 'release_date':'release_year'}, inplace=True)\n",
    "# Keeping ids, genres, specs, prices, developer, app_names, tags\n",
    "# Creating a gzip crompessed json file\n",
    "columns = ['item_id', 'developer', 'app_name', 'genres','tags', 'specs','release_year', 'price']\n",
    "fts.gzip_json_file('./data/games.json.gz',\n",
    "               df=df_games,\n",
    "               subset=columns)"
   ]
  },
  {
   "cell_type": "markdown",
   "id": "183f10e2",
   "metadata": {},
   "source": [
    "*** \n",
    "\n",
    "### 2) User's reviews data int file: `user_reviews.json.gz`\n",
    "\n",
    "Note: There is nested information within the following files"
   ]
  },
  {
   "cell_type": "code",
   "execution_count": 9,
   "id": "15efae19",
   "metadata": {},
   "outputs": [
    {
     "name": "stdout",
     "output_type": "stream",
     "text": [
      "Number of records: 25799\n",
      "Item type: <class 'dict'>\n"
     ]
    }
   ],
   "source": [
    "revs = fts.load_json_gz('./raw_data/user_reviews.json.gz', mode='rt', encoding='UTF-8')"
   ]
  },
  {
   "cell_type": "code",
   "execution_count": 10,
   "id": "c206c43e",
   "metadata": {},
   "outputs": [
    {
     "name": "stdout",
     "output_type": "stream",
     "text": [
      "<class 'pandas.core.frame.DataFrame'>\n",
      "RangeIndex: 25799 entries, 0 to 25798\n",
      "Data columns (total 3 columns):\n",
      " #   Column    Non-Null Count  Dtype \n",
      "---  ------    --------------  ----- \n",
      " 0   user_id   25799 non-null  object\n",
      " 1   user_url  25799 non-null  object\n",
      " 2   reviews   25799 non-null  object\n",
      "dtypes: object(3)\n",
      "memory usage: 604.8+ KB\n",
      "None\n"
     ]
    },
    {
     "data": {
      "text/html": [
       "<div>\n",
       "<style scoped>\n",
       "    .dataframe tbody tr th:only-of-type {\n",
       "        vertical-align: middle;\n",
       "    }\n",
       "\n",
       "    .dataframe tbody tr th {\n",
       "        vertical-align: top;\n",
       "    }\n",
       "\n",
       "    .dataframe thead th {\n",
       "        text-align: right;\n",
       "    }\n",
       "</style>\n",
       "<table border=\"1\" class=\"dataframe\">\n",
       "  <thead>\n",
       "    <tr style=\"text-align: right;\">\n",
       "      <th></th>\n",
       "      <th>user_id</th>\n",
       "      <th>user_url</th>\n",
       "      <th>reviews</th>\n",
       "    </tr>\n",
       "  </thead>\n",
       "  <tbody>\n",
       "    <tr>\n",
       "      <th>0</th>\n",
       "      <td>76561197970982479</td>\n",
       "      <td>http://steamcommunity.com/profiles/76561197970...</td>\n",
       "      <td>[{'funny': '', 'posted': 'Posted November 5, 2...</td>\n",
       "    </tr>\n",
       "    <tr>\n",
       "      <th>1</th>\n",
       "      <td>js41637</td>\n",
       "      <td>http://steamcommunity.com/id/js41637</td>\n",
       "      <td>[{'funny': '', 'posted': 'Posted June 24, 2014...</td>\n",
       "    </tr>\n",
       "    <tr>\n",
       "      <th>2</th>\n",
       "      <td>evcentric</td>\n",
       "      <td>http://steamcommunity.com/id/evcentric</td>\n",
       "      <td>[{'funny': '', 'posted': 'Posted February 3.',...</td>\n",
       "    </tr>\n",
       "    <tr>\n",
       "      <th>3</th>\n",
       "      <td>doctr</td>\n",
       "      <td>http://steamcommunity.com/id/doctr</td>\n",
       "      <td>[{'funny': '', 'posted': 'Posted October 14, 2...</td>\n",
       "    </tr>\n",
       "    <tr>\n",
       "      <th>4</th>\n",
       "      <td>maplemage</td>\n",
       "      <td>http://steamcommunity.com/id/maplemage</td>\n",
       "      <td>[{'funny': '3 people found this review funny',...</td>\n",
       "    </tr>\n",
       "  </tbody>\n",
       "</table>\n",
       "</div>"
      ],
      "text/plain": [
       "             user_id                                           user_url  \\\n",
       "0  76561197970982479  http://steamcommunity.com/profiles/76561197970...   \n",
       "1            js41637               http://steamcommunity.com/id/js41637   \n",
       "2          evcentric             http://steamcommunity.com/id/evcentric   \n",
       "3              doctr                 http://steamcommunity.com/id/doctr   \n",
       "4          maplemage             http://steamcommunity.com/id/maplemage   \n",
       "\n",
       "                                             reviews  \n",
       "0  [{'funny': '', 'posted': 'Posted November 5, 2...  \n",
       "1  [{'funny': '', 'posted': 'Posted June 24, 2014...  \n",
       "2  [{'funny': '', 'posted': 'Posted February 3.',...  \n",
       "3  [{'funny': '', 'posted': 'Posted October 14, 2...  \n",
       "4  [{'funny': '3 people found this review funny',...  "
      ]
     },
     "execution_count": 10,
     "metadata": {},
     "output_type": "execute_result"
    }
   ],
   "source": [
    "# To Dataframe\n",
    "df_revs = pd.DataFrame(revs)\n",
    "print(df_revs.info())\n",
    "df_revs.head()"
   ]
  },
  {
   "cell_type": "markdown",
   "id": "e6069e65",
   "metadata": {},
   "source": [
    "25799 entries -> 25799 distinct users?"
   ]
  },
  {
   "cell_type": "code",
   "execution_count": 11,
   "id": "5e85d5f8",
   "metadata": {},
   "outputs": [
    {
     "data": {
      "text/plain": [
       "25485"
      ]
     },
     "execution_count": 11,
     "metadata": {},
     "output_type": "execute_result"
    }
   ],
   "source": [
    "# Counting distinct values\n",
    "len(pd.unique(df_revs['user_id']))"
   ]
  },
  {
   "cell_type": "code",
   "execution_count": 12,
   "id": "386983ac",
   "metadata": {},
   "outputs": [
    {
     "data": {
      "text/plain": [
       "309"
      ]
     },
     "execution_count": 12,
     "metadata": {},
     "output_type": "execute_result"
    }
   ],
   "source": [
    "# Identifying duplicated user id in the dataFrame\n",
    "duplicated = df_revs['user_id'].value_counts()\n",
    "duplicated = duplicated[duplicated > 1]\n",
    "len(duplicated)"
   ]
  },
  {
   "cell_type": "markdown",
   "id": "1b62c9a8",
   "metadata": {},
   "source": [
    "Check if duplicated entries have same set of reviews."
   ]
  },
  {
   "cell_type": "code",
   "execution_count": 13,
   "id": "4aa1ae8f",
   "metadata": {},
   "outputs": [
    {
     "name": "stdout",
     "output_type": "stream",
     "text": [
      "{'funny': '', 'posted': 'Posted May 12.', 'last_edited': '', 'item_id': '463490', 'helpful': '1 of 1 people (100%) found this review helpful', 'recommend': True, 'review': 'I gotta say, Melons is my favourite song from evry one of my soundtracks.'}\n",
      "{'funny': '', 'posted': 'Posted May 12.', 'last_edited': '', 'item_id': '463490', 'helpful': '1 of 1 people (100%) found this review helpful', 'recommend': True, 'review': 'I gotta say, Melons is my favourite song from evry one of my soundtracks.'}\n",
      "{'funny': '', 'posted': 'Posted May 12.', 'last_edited': '', 'item_id': '463490', 'helpful': '1 of 1 people (100%) found this review helpful', 'recommend': True, 'review': 'I gotta say, Melons is my favourite song from evry one of my soundtracks.'}\n"
     ]
    }
   ],
   "source": [
    "idxs = df_revs[df_revs['user_id'] == '76561198027488037'].loc[:,'reviews'].index\n",
    "\n",
    "for idx in idxs:\n",
    "    print(df_revs.loc[idx, 'reviews'][0])"
   ]
  },
  {
   "cell_type": "markdown",
   "id": "6e32028c",
   "metadata": {},
   "source": [
    "Dropping duplicates"
   ]
  },
  {
   "cell_type": "code",
   "execution_count": 14,
   "id": "2738f70c",
   "metadata": {},
   "outputs": [
    {
     "name": "stdout",
     "output_type": "stream",
     "text": [
      "25485\n"
     ]
    }
   ],
   "source": [
    "df_revs.drop_duplicates('user_id', inplace=True, ignore_index=True)\n",
    "print(len(df_revs))"
   ]
  },
  {
   "cell_type": "markdown",
   "id": "ddee9daf",
   "metadata": {},
   "source": [
    "25485 distinct users.\n",
    "\n",
    "- What is the average of reviews per user?\n",
    "- What is the maximum number of reviews that a single user has?\n",
    "- What es the minimum number?"
   ]
  },
  {
   "cell_type": "code",
   "execution_count": 15,
   "id": "7a73839e",
   "metadata": {},
   "outputs": [
    {
     "name": "stdout",
     "output_type": "stream",
     "text": [
      "Average number of reviews for a single user: 2.2927212085540516\n",
      "Maximum number of reviews for a single user: 10\n",
      "Minimum number of reviews for a single user: 0\n"
     ]
    }
   ],
   "source": [
    "print('Average number of reviews for a single user:', df_revs['reviews'].map(len).mean())\n",
    "print('Maximum number of reviews for a single user:', df_revs['reviews'].map(len).max())\n",
    "print('Minimum number of reviews for a single user:', df_revs['reviews'].map(len).min())"
   ]
  },
  {
   "cell_type": "markdown",
   "id": "64b6cbdb",
   "metadata": {},
   "source": [
    "How many users with 0 reviews?"
   ]
  },
  {
   "cell_type": "code",
   "execution_count": 16,
   "id": "47796120",
   "metadata": {},
   "outputs": [
    {
     "name": "stdout",
     "output_type": "stream",
     "text": [
      "Number of users with no reviews registered: 28\n",
      "After dropping: 0\n"
     ]
    }
   ],
   "source": [
    "print('Number of users with no reviews registered:', \n",
    "      (df_revs['reviews'].map(len) == 0).sum())\n",
    "\n",
    "# Dropping them\n",
    "indexes = df_revs[df_revs['reviews'].map(len) == 0].index\n",
    "df_revs.drop(index=indexes, inplace=True)\n",
    "\n",
    "# Checking\n",
    "print('After dropping:', \n",
    "      (df_revs['reviews'].map(len) == 0).sum())"
   ]
  },
  {
   "cell_type": "markdown",
   "id": "3dfec6f8",
   "metadata": {},
   "source": [
    "Unnestig reviews"
   ]
  },
  {
   "cell_type": "code",
   "execution_count": 17,
   "id": "0a4aa903",
   "metadata": {},
   "outputs": [
    {
     "name": "stdout",
     "output_type": "stream",
     "text": [
      "Shape of the resulting array: (58430, 5)\n"
     ]
    }
   ],
   "source": [
    "revs = fts.json_unpacking(df_revs, where='reviews',\n",
    "                             values=['posted', 'item_id', 'recommend', 'review'],\n",
    "                             old_colums=['user_id'])\n",
    "\n",
    "# Creating a dataFrame from that list\n",
    "# df_revs = pd.DataFrame(revs)\n",
    "# df_revs.head(10)"
   ]
  },
  {
   "cell_type": "code",
   "execution_count": 19,
   "id": "554cc5dc",
   "metadata": {},
   "outputs": [
    {
     "name": "stdout",
     "output_type": "stream",
     "text": [
      "<class 'pandas.core.frame.DataFrame'>\n",
      "RangeIndex: 58430 entries, 0 to 58429\n",
      "Data columns (total 5 columns):\n",
      " #   Column     Non-Null Count  Dtype \n",
      "---  ------     --------------  ----- \n",
      " 0   user_id    58430 non-null  object\n",
      " 1   posted     58430 non-null  object\n",
      " 2   item_id    58430 non-null  object\n",
      " 3   recommend  58430 non-null  bool  \n",
      " 4   review     58430 non-null  object\n",
      "dtypes: bool(1), object(4)\n",
      "memory usage: 1.8+ MB\n"
     ]
    }
   ],
   "source": [
    "revs.info()"
   ]
  },
  {
   "cell_type": "code",
   "execution_count": 28,
   "id": "525ffb0c",
   "metadata": {},
   "outputs": [
    {
     "name": "stdout",
     "output_type": "stream",
     "text": [
      "File saved at \"data/user_reviews_c.json.gz\"\n"
     ]
    }
   ],
   "source": [
    "# Saving it into a file - 58430 reviews total\n",
    "columns = ['user_id', 'item_id', 'recommend', 'review']\n",
    "fts.gzip_json_file('./data/user_reviews_c.json.gz',\n",
    "               df=df_revs,\n",
    "               subset=columns)"
   ]
  },
  {
   "cell_type": "markdown",
   "id": "84e8b70f",
   "metadata": {},
   "source": [
    "***\n",
    "\n",
    "## 3) users_items.json.gz data:\n",
    "\n",
    "This file is way **heavier** than the others. \n",
    "\n",
    "**Just open the file and reading the data properly can take longer than reading the files before** (up to 2 min or more)."
   ]
  },
  {
   "cell_type": "code",
   "execution_count": 20,
   "id": "f0e8420e",
   "metadata": {},
   "outputs": [
    {
     "name": "stdout",
     "output_type": "stream",
     "text": [
      "Number of records: 88310\n",
      "Item type: <class 'dict'>\n"
     ]
    }
   ],
   "source": [
    "df_items = fts.load_json_gz('./raw_data/users_items.json.gz',\n",
    "                     mode='rt', encoding='UTF-8')"
   ]
  },
  {
   "cell_type": "code",
   "execution_count": 21,
   "id": "b01dd2c2",
   "metadata": {},
   "outputs": [
    {
     "name": "stdout",
     "output_type": "stream",
     "text": [
      "<class 'pandas.core.frame.DataFrame'>\n",
      "RangeIndex: 88310 entries, 0 to 88309\n",
      "Data columns (total 5 columns):\n",
      " #   Column       Non-Null Count  Dtype \n",
      "---  ------       --------------  ----- \n",
      " 0   user_id      88310 non-null  object\n",
      " 1   items_count  88310 non-null  int64 \n",
      " 2   steam_id     88310 non-null  object\n",
      " 3   user_url     88310 non-null  object\n",
      " 4   items        88310 non-null  object\n",
      "dtypes: int64(1), object(4)\n",
      "memory usage: 3.4+ MB\n",
      "None\n"
     ]
    },
    {
     "data": {
      "text/html": [
       "<div>\n",
       "<style scoped>\n",
       "    .dataframe tbody tr th:only-of-type {\n",
       "        vertical-align: middle;\n",
       "    }\n",
       "\n",
       "    .dataframe tbody tr th {\n",
       "        vertical-align: top;\n",
       "    }\n",
       "\n",
       "    .dataframe thead th {\n",
       "        text-align: right;\n",
       "    }\n",
       "</style>\n",
       "<table border=\"1\" class=\"dataframe\">\n",
       "  <thead>\n",
       "    <tr style=\"text-align: right;\">\n",
       "      <th></th>\n",
       "      <th>user_id</th>\n",
       "      <th>items_count</th>\n",
       "      <th>steam_id</th>\n",
       "      <th>user_url</th>\n",
       "      <th>items</th>\n",
       "    </tr>\n",
       "  </thead>\n",
       "  <tbody>\n",
       "    <tr>\n",
       "      <th>0</th>\n",
       "      <td>76561197970982479</td>\n",
       "      <td>277</td>\n",
       "      <td>76561197970982479</td>\n",
       "      <td>http://steamcommunity.com/profiles/76561197970...</td>\n",
       "      <td>[{'item_id': '10', 'item_name': 'Counter-Strik...</td>\n",
       "    </tr>\n",
       "    <tr>\n",
       "      <th>1</th>\n",
       "      <td>js41637</td>\n",
       "      <td>888</td>\n",
       "      <td>76561198035864385</td>\n",
       "      <td>http://steamcommunity.com/id/js41637</td>\n",
       "      <td>[{'item_id': '10', 'item_name': 'Counter-Strik...</td>\n",
       "    </tr>\n",
       "    <tr>\n",
       "      <th>2</th>\n",
       "      <td>evcentric</td>\n",
       "      <td>137</td>\n",
       "      <td>76561198007712555</td>\n",
       "      <td>http://steamcommunity.com/id/evcentric</td>\n",
       "      <td>[{'item_id': '1200', 'item_name': 'Red Orchest...</td>\n",
       "    </tr>\n",
       "    <tr>\n",
       "      <th>3</th>\n",
       "      <td>Riot-Punch</td>\n",
       "      <td>328</td>\n",
       "      <td>76561197963445855</td>\n",
       "      <td>http://steamcommunity.com/id/Riot-Punch</td>\n",
       "      <td>[{'item_id': '10', 'item_name': 'Counter-Strik...</td>\n",
       "    </tr>\n",
       "    <tr>\n",
       "      <th>4</th>\n",
       "      <td>doctr</td>\n",
       "      <td>541</td>\n",
       "      <td>76561198002099482</td>\n",
       "      <td>http://steamcommunity.com/id/doctr</td>\n",
       "      <td>[{'item_id': '300', 'item_name': 'Day of Defea...</td>\n",
       "    </tr>\n",
       "  </tbody>\n",
       "</table>\n",
       "</div>"
      ],
      "text/plain": [
       "             user_id  items_count           steam_id  \\\n",
       "0  76561197970982479          277  76561197970982479   \n",
       "1            js41637          888  76561198035864385   \n",
       "2          evcentric          137  76561198007712555   \n",
       "3         Riot-Punch          328  76561197963445855   \n",
       "4              doctr          541  76561198002099482   \n",
       "\n",
       "                                            user_url  \\\n",
       "0  http://steamcommunity.com/profiles/76561197970...   \n",
       "1               http://steamcommunity.com/id/js41637   \n",
       "2             http://steamcommunity.com/id/evcentric   \n",
       "3            http://steamcommunity.com/id/Riot-Punch   \n",
       "4                 http://steamcommunity.com/id/doctr   \n",
       "\n",
       "                                               items  \n",
       "0  [{'item_id': '10', 'item_name': 'Counter-Strik...  \n",
       "1  [{'item_id': '10', 'item_name': 'Counter-Strik...  \n",
       "2  [{'item_id': '1200', 'item_name': 'Red Orchest...  \n",
       "3  [{'item_id': '10', 'item_name': 'Counter-Strik...  \n",
       "4  [{'item_id': '300', 'item_name': 'Day of Defea...  "
      ]
     },
     "execution_count": 21,
     "metadata": {},
     "output_type": "execute_result"
    }
   ],
   "source": [
    "# Creating a dataframe with the dictionaries\n",
    "df_items = pd.DataFrame(df_items)\n",
    "print(df_items.info())\n",
    "df_items.head()"
   ]
  },
  {
   "cell_type": "markdown",
   "id": "0ce32eec",
   "metadata": {},
   "source": [
    "Looking for duplicated entries"
   ]
  },
  {
   "cell_type": "code",
   "execution_count": 22,
   "id": "511de40d",
   "metadata": {},
   "outputs": [
    {
     "name": "stdout",
     "output_type": "stream",
     "text": [
      "Unique users 87626\n",
      "Duplicated entries: 673\n"
     ]
    }
   ],
   "source": [
    "print('Unique users', len(pd.unique(df_items['user_id'])))\n",
    "# Getting how many duplicated records\n",
    "dupl = df_items['user_id'].value_counts()\n",
    "dupl = dupl[dupl > 1]\n",
    "print('Duplicated entries:', len(dupl))"
   ]
  },
  {
   "cell_type": "markdown",
   "id": "f337ea40",
   "metadata": {},
   "source": [
    "Only 87626 distinct user id; 673 duplicated records."
   ]
  },
  {
   "cell_type": "code",
   "execution_count": 23,
   "id": "ad128124",
   "metadata": {},
   "outputs": [
    {
     "name": "stdout",
     "output_type": "stream",
     "text": [
      "<class 'pandas.core.frame.DataFrame'>\n",
      "RangeIndex: 87626 entries, 0 to 87625\n",
      "Data columns (total 5 columns):\n",
      " #   Column       Non-Null Count  Dtype \n",
      "---  ------       --------------  ----- \n",
      " 0   user_id      87626 non-null  object\n",
      " 1   items_count  87626 non-null  int64 \n",
      " 2   steam_id     87626 non-null  object\n",
      " 3   user_url     87626 non-null  object\n",
      " 4   items        87626 non-null  object\n",
      "dtypes: int64(1), object(4)\n",
      "memory usage: 3.3+ MB\n",
      "None\n"
     ]
    }
   ],
   "source": [
    "# Dropping duplicates\n",
    "df_items.drop_duplicates('user_id', inplace=True, ignore_index=True)\n",
    "print(df_items.info())"
   ]
  },
  {
   "cell_type": "markdown",
   "id": "8d66bb0c",
   "metadata": {},
   "source": [
    "- Is there users with 0 items?\n",
    "\n",
    "- Have they written some review?"
   ]
  },
  {
   "cell_type": "code",
   "execution_count": 24,
   "id": "f0d65df5",
   "metadata": {},
   "outputs": [
    {
     "name": "stdout",
     "output_type": "stream",
     "text": [
      "Number of users with no items: 16714\n",
      "How many of them have reviewed something?\n",
      " -> 2841\n"
     ]
    }
   ],
   "source": [
    "print('Number of users with no items:', \n",
    "      len(df_items[df_items['items_count'] == 0]))\n",
    "\n",
    "# List of unique users with reviews registered\n",
    "rev_users = list(revs['user_id'].unique())\n",
    "\n",
    "# Users without any item\n",
    "no_items_users = df_items[df_items['items_count'] == 0].user_id\n",
    "\n",
    "# Checkin if there's reviews from somebody without items.\n",
    "print('How many of them have reviewed something?\\n ->', \n",
    "      no_items_users.isin(rev_users).sum())"
   ]
  },
  {
   "cell_type": "markdown",
   "id": "05791a58",
   "metadata": {},
   "source": [
    "2841 Users having 0 items and some review. They represent about **3%** of the total.\n",
    "\n",
    "Dropping all users with 0 items for simplicity."
   ]
  },
  {
   "cell_type": "code",
   "execution_count": 25,
   "id": "2fe1f906",
   "metadata": {},
   "outputs": [
    {
     "name": "stdout",
     "output_type": "stream",
     "text": [
      "<class 'pandas.core.frame.DataFrame'>\n",
      "Index: 70912 entries, 0 to 87624\n",
      "Data columns (total 5 columns):\n",
      " #   Column       Non-Null Count  Dtype \n",
      "---  ------       --------------  ----- \n",
      " 0   user_id      70912 non-null  object\n",
      " 1   items_count  70912 non-null  int64 \n",
      " 2   steam_id     70912 non-null  object\n",
      " 3   user_url     70912 non-null  object\n",
      " 4   items        70912 non-null  object\n",
      "dtypes: int64(1), object(4)\n",
      "memory usage: 3.2+ MB\n"
     ]
    }
   ],
   "source": [
    "# Getting indexes to drop\n",
    "idxs =df_items[df_items['items_count'] == 0].index\n",
    "\n",
    "df_items.drop(index=idxs, inplace=True)\n",
    "# Final version of the data\n",
    "df_items.info()"
   ]
  },
  {
   "cell_type": "code",
   "execution_count": 26,
   "id": "0b18c7ed",
   "metadata": {},
   "outputs": [
    {
     "data": {
      "text/plain": [
       "{'item_id': '273350',\n",
       " 'item_name': 'Evolve Stage 2',\n",
       " 'playtime_forever': 58,\n",
       " 'playtime_2weeks': 0}"
      ]
     },
     "execution_count": 26,
     "metadata": {},
     "output_type": "execute_result"
    }
   ],
   "source": [
    "df_items['items'][0][-1]"
   ]
  },
  {
   "cell_type": "markdown",
   "id": "86c4f146",
   "metadata": {},
   "source": [
    "Just above is a single item (json format) from column 'items'.\n",
    "\n",
    "Each json containing an item follows the key-value structure with information we need.\n",
    "\n",
    "- An ``item id``\n",
    "- An ``item_name``\n",
    "- ``playtime_forever`` (I guess is the total hours played for that item).\n",
    "- ``playtime_2weeks`` (I guess is the total hours played for that item in the last 2 weeks).\n",
    "\n",
    "Items have to be unnested.\n",
    "\n",
    "The result is a huge dataset, but it will be easier to query and analyze data.\n",
    "\n",
    "The cell below can take several minutes to execute, as well as creating a pandas DataFrame with it."
   ]
  },
  {
   "cell_type": "code",
   "execution_count": 27,
   "id": "4a5abf4e",
   "metadata": {},
   "outputs": [
    {
     "name": "stdout",
     "output_type": "stream",
     "text": [
      "Shape of the resulting array: (5094082, 3)\n"
     ]
    }
   ],
   "source": [
    "# Unpacking\n",
    "items = fts.json_unpacking(\n",
    "    df = df_items,\n",
    "    where='items',\n",
    "    values=['item_id', 'playtime_forever'],\n",
    "    old_colums=['user_id']\n",
    ")"
   ]
  },
  {
   "cell_type": "markdown",
   "id": "57090438",
   "metadata": {},
   "source": [
    "The resulting dataset is pretty big; **5M+ items**."
   ]
  },
  {
   "cell_type": "code",
   "execution_count": 28,
   "id": "75021417",
   "metadata": {},
   "outputs": [
    {
     "name": "stdout",
     "output_type": "stream",
     "text": [
      "<class 'pandas.core.frame.DataFrame'>\n",
      "RangeIndex: 5094082 entries, 0 to 5094081\n",
      "Data columns (total 3 columns):\n",
      " #   Column            Dtype \n",
      "---  ------            ----- \n",
      " 0   user_id           object\n",
      " 1   item_id           object\n",
      " 2   playtime_forever  int64 \n",
      "dtypes: int64(1), object(2)\n",
      "memory usage: 116.6+ MB\n"
     ]
    }
   ],
   "source": [
    "items.info()"
   ]
  },
  {
   "cell_type": "markdown",
   "id": "827ab9d5",
   "metadata": {},
   "source": [
    "- Is there users having items but never played them? (``playtime_forever = 0`` for some item)"
   ]
  },
  {
   "cell_type": "code",
   "execution_count": 29,
   "id": "347ee119",
   "metadata": {},
   "outputs": [
    {
     "data": {
      "text/html": [
       "<div>\n",
       "<style scoped>\n",
       "    .dataframe tbody tr th:only-of-type {\n",
       "        vertical-align: middle;\n",
       "    }\n",
       "\n",
       "    .dataframe tbody tr th {\n",
       "        vertical-align: top;\n",
       "    }\n",
       "\n",
       "    .dataframe thead th {\n",
       "        text-align: right;\n",
       "    }\n",
       "</style>\n",
       "<table border=\"1\" class=\"dataframe\">\n",
       "  <thead>\n",
       "    <tr style=\"text-align: right;\">\n",
       "      <th></th>\n",
       "      <th>user_id</th>\n",
       "      <th>item_id</th>\n",
       "      <th>playtime_forever</th>\n",
       "    </tr>\n",
       "  </thead>\n",
       "  <tbody>\n",
       "    <tr>\n",
       "      <th>1</th>\n",
       "      <td>76561197970982479</td>\n",
       "      <td>20</td>\n",
       "      <td>0</td>\n",
       "    </tr>\n",
       "    <tr>\n",
       "      <th>3</th>\n",
       "      <td>76561197970982479</td>\n",
       "      <td>40</td>\n",
       "      <td>0</td>\n",
       "    </tr>\n",
       "    <tr>\n",
       "      <th>4</th>\n",
       "      <td>76561197970982479</td>\n",
       "      <td>50</td>\n",
       "      <td>0</td>\n",
       "    </tr>\n",
       "    <tr>\n",
       "      <th>5</th>\n",
       "      <td>76561197970982479</td>\n",
       "      <td>60</td>\n",
       "      <td>0</td>\n",
       "    </tr>\n",
       "    <tr>\n",
       "      <th>6</th>\n",
       "      <td>76561197970982479</td>\n",
       "      <td>70</td>\n",
       "      <td>0</td>\n",
       "    </tr>\n",
       "    <tr>\n",
       "      <th>...</th>\n",
       "      <td>...</td>\n",
       "      <td>...</td>\n",
       "      <td>...</td>\n",
       "    </tr>\n",
       "    <tr>\n",
       "      <th>5094072</th>\n",
       "      <td>76561198326700687</td>\n",
       "      <td>519170</td>\n",
       "      <td>0</td>\n",
       "    </tr>\n",
       "    <tr>\n",
       "      <th>5094073</th>\n",
       "      <td>76561198326700687</td>\n",
       "      <td>358390</td>\n",
       "      <td>0</td>\n",
       "    </tr>\n",
       "    <tr>\n",
       "      <th>5094074</th>\n",
       "      <td>76561198326700687</td>\n",
       "      <td>521570</td>\n",
       "      <td>0</td>\n",
       "    </tr>\n",
       "    <tr>\n",
       "      <th>5094077</th>\n",
       "      <td>76561198329548331</td>\n",
       "      <td>346330</td>\n",
       "      <td>0</td>\n",
       "    </tr>\n",
       "    <tr>\n",
       "      <th>5094078</th>\n",
       "      <td>76561198329548331</td>\n",
       "      <td>373330</td>\n",
       "      <td>0</td>\n",
       "    </tr>\n",
       "  </tbody>\n",
       "</table>\n",
       "<p>1847730 rows × 3 columns</p>\n",
       "</div>"
      ],
      "text/plain": [
       "                   user_id item_id  playtime_forever\n",
       "1        76561197970982479      20                 0\n",
       "3        76561197970982479      40                 0\n",
       "4        76561197970982479      50                 0\n",
       "5        76561197970982479      60                 0\n",
       "6        76561197970982479      70                 0\n",
       "...                    ...     ...               ...\n",
       "5094072  76561198326700687  519170                 0\n",
       "5094073  76561198326700687  358390                 0\n",
       "5094074  76561198326700687  521570                 0\n",
       "5094077  76561198329548331  346330                 0\n",
       "5094078  76561198329548331  373330                 0\n",
       "\n",
       "[1847730 rows x 3 columns]"
      ]
     },
     "execution_count": 29,
     "metadata": {},
     "output_type": "execute_result"
    }
   ],
   "source": [
    "items[items['playtime_forever'] == 0]"
   ]
  },
  {
   "cell_type": "markdown",
   "id": "88db5bc6",
   "metadata": {},
   "source": [
    "Almost 2M records with zero playtime. \n",
    "\n",
    "There is no reason to keep those records as aggregation functions will be calculated."
   ]
  },
  {
   "cell_type": "code",
   "execution_count": 30,
   "id": "fac8b086",
   "metadata": {},
   "outputs": [
    {
     "name": "stdout",
     "output_type": "stream",
     "text": [
      "<class 'pandas.core.frame.DataFrame'>\n",
      "Index: 3246352 entries, 0 to 5094081\n",
      "Data columns (total 3 columns):\n",
      " #   Column            Dtype \n",
      "---  ------            ----- \n",
      " 0   user_id           object\n",
      " 1   item_id           object\n",
      " 2   playtime_forever  int64 \n",
      "dtypes: int64(1), object(2)\n",
      "memory usage: 99.1+ MB\n"
     ]
    }
   ],
   "source": [
    "# Dropping\n",
    "items.drop(\n",
    "    index = items[items['playtime_forever'] == 0].index,\n",
    "    inplace=True\n",
    "    )\n",
    "\n",
    "# Checking new info and size\n",
    "items.info()"
   ]
  },
  {
   "cell_type": "markdown",
   "id": "4c7602e2",
   "metadata": {},
   "source": [
    "Saving this cleaner, less heavy dataframe"
   ]
  },
  {
   "cell_type": "code",
   "execution_count": 14,
   "id": "8c0e36fc",
   "metadata": {},
   "outputs": [
    {
     "name": "stdout",
     "output_type": "stream",
     "text": [
      "File saved at \"data/items.json.gz\"\n"
     ]
    }
   ],
   "source": [
    "# What if i save this dataframe?\n",
    "fts.gzip_json_file(\n",
    "    './data/items.json.gz',\n",
    "    df=items,\n",
    ")"
   ]
  },
  {
   "cell_type": "code",
   "execution_count": 92,
   "id": "b48550f6",
   "metadata": {},
   "outputs": [],
   "source": [
    "mask = df_games['genres'].map(lambda x: 'Action' in x, na_action='ignore')"
   ]
  },
  {
   "cell_type": "code",
   "execution_count": 93,
   "id": "e015c168",
   "metadata": {},
   "outputs": [
    {
     "data": {
      "text/plain": [
       "0         True\n",
       "1        False\n",
       "2        False\n",
       "3         True\n",
       "4          NaN\n",
       "         ...  \n",
       "32130    False\n",
       "32131    False\n",
       "32132    False\n",
       "32133    False\n",
       "32134      NaN\n",
       "Name: genres, Length: 32133, dtype: object"
      ]
     },
     "execution_count": 93,
     "metadata": {},
     "output_type": "execute_result"
    }
   ],
   "source": [
    "mask"
   ]
  }
 ],
 "metadata": {
  "kernelspec": {
   "display_name": "Python 3 (ipykernel)",
   "language": "python",
   "name": "python3"
  },
  "language_info": {
   "codemirror_mode": {
    "name": "ipython",
    "version": 3
   },
   "file_extension": ".py",
   "mimetype": "text/x-python",
   "name": "python",
   "nbconvert_exporter": "python",
   "pygments_lexer": "ipython3",
   "version": "3.10.12"
  }
 },
 "nbformat": 4,
 "nbformat_minor": 5
}
